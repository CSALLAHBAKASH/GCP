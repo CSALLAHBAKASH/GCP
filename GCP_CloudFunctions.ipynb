{
 "cells": [
  {
   "cell_type": "code",
   "execution_count": 4,
   "id": "58dd44e2",
   "metadata": {},
   "outputs": [],
   "source": [
    "import os\n",
    "os.environ[\"GOOGLE_APPLICATION_CREDENTIALS\"]=\"/home/ali/key.json\""
   ]
  },
  {
   "cell_type": "code",
   "execution_count": 1,
   "id": "4bddcda1",
   "metadata": {
    "scrolled": true
   },
   "outputs": [
    {
     "name": "stdout",
     "output_type": "stream",
     "text": [
      "[core]\r\n",
      "account = khajasabengr@gmail.com\r\n",
      "disable_usage_reporting = True\r\n",
      "project = khaja-dev\r\n",
      "\r\n",
      "Your active configuration is: [default]\r\n"
     ]
    }
   ],
   "source": [
    "!gcloud config list"
   ]
  },
  {
   "cell_type": "raw",
   "id": "90afe917",
   "metadata": {},
   "source": [
    "gcloud auth login\n",
    "gcloud auth activate-service-account"
   ]
  },
  {
   "cell_type": "code",
   "execution_count": 6,
   "id": "4a595ac1",
   "metadata": {},
   "outputs": [
    {
     "name": "stdout",
     "output_type": "stream",
     "text": [
      "PROJECT_ID            NAME               PROJECT_NUMBER\r\n",
      "apply-ds-test-382504  apply-ds-test      289002071544\r\n",
      "caramel-graph-380406  My First Project   834380449602\r\n",
      "khaja-dev             khaja-dev          855319760601\r\n",
      "khaja-pr              khaja-pr           366071156365\r\n",
      "khaja-qa              khaja-qa           973817720022\r\n",
      "learn-bq-project1     learn-bq-project1  453715965973\r\n",
      "tidy-reporter-380406  My First Project   951114477951\r\n"
     ]
    }
   ],
   "source": [
    "!gcloud projects list"
   ]
  },
  {
   "cell_type": "code",
   "execution_count": 2,
   "id": "b5a2768f",
   "metadata": {},
   "outputs": [
    {
     "name": "stdout",
     "output_type": "stream",
     "text": [
      "Updated property [functions/region].\r\n"
     ]
    }
   ],
   "source": [
    "!gcloud config set functions/region asia-south1"
   ]
  },
  {
   "cell_type": "code",
   "execution_count": 7,
   "id": "6f8aafc0",
   "metadata": {},
   "outputs": [
    {
     "name": "stdout",
     "output_type": "stream",
     "text": [
      "Updated property [core/project].\r\n"
     ]
    }
   ],
   "source": [
    "!gcloud config set project khaja-dev"
   ]
  },
  {
   "cell_type": "code",
   "execution_count": 9,
   "id": "a106a8c3",
   "metadata": {},
   "outputs": [
    {
     "name": "stdout",
     "output_type": "stream",
     "text": [
      "NAME                              TITLE\r\n",
      "bigquery.googleapis.com           BigQuery API\r\n",
      "bigquerymigration.googleapis.com  BigQuery Migration API\r\n",
      "bigquerystorage.googleapis.com    BigQuery Storage API\r\n",
      "cloudapis.googleapis.com          Google Cloud APIs\r\n",
      "clouddebugger.googleapis.com      Cloud Debugger API\r\n",
      "cloudtrace.googleapis.com         Cloud Trace API\r\n",
      "datastore.googleapis.com          Cloud Datastore API\r\n",
      "logging.googleapis.com            Cloud Logging API\r\n",
      "monitoring.googleapis.com         Cloud Monitoring API\r\n",
      "secretmanager.googleapis.com      Secret Manager API\r\n",
      "servicemanagement.googleapis.com  Service Management API\r\n",
      "serviceusage.googleapis.com       Service Usage API\r\n",
      "sql-component.googleapis.com      Cloud SQL\r\n",
      "storage-api.googleapis.com        Google Cloud Storage JSON API\r\n",
      "storage-component.googleapis.com  Cloud Storage\r\n",
      "storage.googleapis.com            Cloud Storage API\r\n"
     ]
    }
   ],
   "source": [
    "!gcloud services list"
   ]
  },
  {
   "cell_type": "code",
   "execution_count": 10,
   "id": "6a649d54",
   "metadata": {},
   "outputs": [
    {
     "name": "stdout",
     "output_type": "stream",
     "text": [
      "Operation \"operations/acf.p2-855319760601-316beab2-9e45-4005-8453-ace60c14d752\" finished successfully.\r\n"
     ]
    }
   ],
   "source": [
    "!gcloud services enable pubsub.googleapis.com\n",
    "\n",
    "!gcloud services enable cloudfunctions.googleapis.com\n",
    "\n",
    "!gcloud services enable cloudbuild.googleapis.com"
   ]
  },
  {
   "cell_type": "markdown",
   "id": "15db1ecb",
   "metadata": {},
   "source": [
    "## Function Creation "
   ]
  },
  {
   "cell_type": "code",
   "execution_count": 75,
   "id": "3a76d28e",
   "metadata": {},
   "outputs": [
    {
     "name": "stdout",
     "output_type": "stream",
     "text": [
      "Overwriting main.py\n"
     ]
    }
   ],
   "source": [
    "%%writefile main.py\n",
    "from flask import jsonify\n",
    "\n",
    "def my_http_function(request, context):\n",
    "    # Extract the request data\n",
    "    name = request.args.get('name')\n",
    "\n",
    "    # Construct the response\n",
    "    message = f\"Hello, {name}!\"\n",
    "    response = {'message': message}\n",
    "\n",
    "    # Return the response as JSON\n",
    "    return jsonify(response)\n"
   ]
  },
  {
   "cell_type": "code",
   "execution_count": 76,
   "id": "645a36b7",
   "metadata": {},
   "outputs": [
    {
     "name": "stdout",
     "output_type": "stream",
     "text": [
      "Writing requirements.txt\n"
     ]
    }
   ],
   "source": [
    "%%writefile requirements.txt\n",
    "flask"
   ]
  },
  {
   "cell_type": "code",
   "execution_count": 77,
   "id": "5fa8a11b",
   "metadata": {},
   "outputs": [
    {
     "name": "stdout",
     "output_type": "stream",
     "text": [
      "GCP_BQ.ipynb\t\t  GCP_GCS.ipynb\t\t   README.md  requirements.txt\r\n",
      "GCP_CloudFunctions.ipynb  GCP_SecretManager.ipynb  main.py\r\n"
     ]
    }
   ],
   "source": [
    "!ls"
   ]
  },
  {
   "cell_type": "markdown",
   "id": "3cafc6c9",
   "metadata": {},
   "source": [
    "## Function deployment "
   ]
  },
  {
   "cell_type": "code",
   "execution_count": 78,
   "id": "9495ddbe",
   "metadata": {
    "scrolled": true
   },
   "outputs": [
    {
     "name": "stdout",
     "output_type": "stream",
     "text": [
      "Deploying function (may take a while - up to 2 minutes)...⠹                    \n",
      "For Cloud Build Logs, visit: https://console.cloud.google.com/cloud-build/builds;region=asia-south1/2acdc8ef-7d2b-43f3-ae2d-8db428e9647a?project=855319760601\n",
      "Deploying function (may take a while - up to 2 minutes)...done.                \n",
      "availableMemoryMb: 256\n",
      "buildId: 2acdc8ef-7d2b-43f3-ae2d-8db428e9647a\n",
      "buildName: projects/855319760601/locations/asia-south1/builds/2acdc8ef-7d2b-43f3-ae2d-8db428e9647a\n",
      "dockerRegistry: CONTAINER_REGISTRY\n",
      "entryPoint: my_http_function\n",
      "httpsTrigger:\n",
      "  securityLevel: SECURE_OPTIONAL\n",
      "  url: https://asia-south1-khaja-dev.cloudfunctions.net/mymainfun\n",
      "ingressSettings: ALLOW_ALL\n",
      "labels:\n",
      "  deployment-tool: cli-gcloud\n",
      "name: projects/khaja-dev/locations/asia-south1/functions/mymainfun\n",
      "runtime: python39\n",
      "serviceAccountEmail: khaja-dev@appspot.gserviceaccount.com\n",
      "sourceUploadUrl: https://storage.googleapis.com/uploads-240554105391.asia-south1.cloudfunctions.appspot.com/08a92c52-998f-4d8c-ba28-d1f0945d2fcb.zip\n",
      "status: ACTIVE\n",
      "timeout: 60s\n",
      "updateTime: '2023-05-06T12:06:38.111Z'\n",
      "versionId: '6'\n"
     ]
    }
   ],
   "source": [
    "!gcloud functions deploy mymainfun --runtime python39 --trigger-http --allow-unauthenticated --entry-point my_http_function"
   ]
  },
  {
   "cell_type": "code",
   "execution_count": null,
   "id": "c55cd649",
   "metadata": {},
   "outputs": [],
   "source": []
  },
  {
   "cell_type": "markdown",
   "id": "fb8c3e6d",
   "metadata": {},
   "source": [
    "## Function link"
   ]
  },
  {
   "cell_type": "code",
   "execution_count": 79,
   "id": "94c0ad6a",
   "metadata": {
    "scrolled": true
   },
   "outputs": [
    {
     "name": "stdout",
     "output_type": "stream",
     "text": [
      "500 Internal Server Error: The server encountered an internal error and was unable to complete your request. Either the server is overloaded or there is an error in the application."
     ]
    }
   ],
   "source": [
    "!curl https://asia-south1-khaja-dev.cloudfunctions.net/mymainfun"
   ]
  },
  {
   "cell_type": "code",
   "execution_count": 80,
   "id": "c2740fcf",
   "metadata": {},
   "outputs": [
    {
     "name": "stdout",
     "output_type": "stream",
     "text": [
      "https://asia-south1-khaja-dev.cloudfunctions.net/mymainfun\r\n"
     ]
    }
   ],
   "source": [
    "!gcloud functions describe mymainfun --gen2 --region asia-south1 --format=\"value(serviceConfig.uri)\""
   ]
  },
  {
   "cell_type": "code",
   "execution_count": 81,
   "id": "6618888d",
   "metadata": {},
   "outputs": [
    {
     "name": "stdout",
     "output_type": "stream",
     "text": [
      "NAME       STATE   TRIGGER       REGION       ENVIRONMENT\r\n",
      "mymainfun  ACTIVE  HTTP Trigger  asia-south1  1st gen\r\n"
     ]
    }
   ],
   "source": [
    "!gcloud functions list"
   ]
  },
  {
   "cell_type": "code",
   "execution_count": 82,
   "id": "7e115df6",
   "metadata": {},
   "outputs": [
    {
     "name": "stdout",
     "output_type": "stream",
     "text": [
      "availableMemoryMb: 256\n",
      "buildId: 2acdc8ef-7d2b-43f3-ae2d-8db428e9647a\n",
      "buildName: projects/855319760601/locations/asia-south1/builds/2acdc8ef-7d2b-43f3-ae2d-8db428e9647a\n",
      "dockerRegistry: CONTAINER_REGISTRY\n",
      "entryPoint: my_http_function\n",
      "httpsTrigger:\n",
      "  securityLevel: SECURE_OPTIONAL\n",
      "  url: https://asia-south1-khaja-dev.cloudfunctions.net/mymainfun\n",
      "ingressSettings: ALLOW_ALL\n",
      "labels:\n",
      "  deployment-tool: cli-gcloud\n",
      "name: projects/khaja-dev/locations/asia-south1/functions/mymainfun\n",
      "runtime: python39\n",
      "serviceAccountEmail: khaja-dev@appspot.gserviceaccount.com\n",
      "sourceUploadUrl: https://storage.googleapis.com/uploads-240554105391.asia-south1.cloudfunctions.appspot.com/08a92c52-998f-4d8c-ba28-d1f0945d2fcb.zip\n",
      "status: ACTIVE\n",
      "timeout: 60s\n",
      "updateTime: '2023-05-06T12:06:38.111Z'\n",
      "versionId: '6'\n"
     ]
    }
   ],
   "source": [
    "!gcloud functions describe mymainfun"
   ]
  },
  {
   "cell_type": "code",
   "execution_count": 83,
   "id": "097dbd34",
   "metadata": {},
   "outputs": [
    {
     "name": "stdout",
     "output_type": "stream",
     "text": [
      "LEVEL  NAME       EXECUTION_ID  TIME_UTC                 LOG\n",
      "D      mymainfun  9zn6o48cwa0x  2023-05-06 12:08:17.503  Function execution took 3 ms, finished with status: 'crash'\n",
      "E      mymainfun  9zn6o48cwa0x  2023-05-06 12:08:17.502  Traceback (most recent call last):\n",
      "                                                           File \"/layers/google.python.pip/pip/lib/python3.9/site-packages/flask/app.py\", line 2190, in wsgi_app\n",
      "                                                             response = self.full_dispatch_request()\n",
      "                                                           File \"/layers/google.python.pip/pip/lib/python3.9/site-packages/flask/app.py\", line 1486, in full_dispatch_request\n",
      "                                                             rv = self.handle_user_exception(e)\n",
      "                                                           File \"/layers/google.python.pip/pip/lib/python3.9/site-packages/flask/app.py\", line 1484, in full_dispatch_request\n",
      "                                                             rv = self.dispatch_request()\n",
      "                                                           File \"/layers/google.python.pip/pip/lib/python3.9/site-packages/flask/app.py\", line 1469, in dispatch_request\n",
      "                                                             return self.ensure_sync(self.view_functions[rule.endpoint])(**view_args)\n",
      "                                                           File \"/layers/google.python.pip/pip/lib/python3.9/site-packages/functions_framework/__init__.py\", line 130, in view_func\n",
      "                                                             return function(request._get_current_object())\n",
      "                                                         TypeError: my_http_function() missing 1 required positional argument: 'context'\n",
      "       mymainfun  9zn6o48cwa0x  2023-05-06 12:08:17.502  [2023-05-06 12:08:17,501] ERROR in app: Exception on / [GET]\n",
      "D      mymainfun  9zn6o48cwa0x  2023-05-06 12:08:17.499  Function execution started\n",
      "D      mymainfun  9zn6cjhsp0p5  2023-05-06 12:08:08.409  Function execution took 55 ms, finished with status: 'crash'\n",
      "E      mymainfun  9zn6cjhsp0p5  2023-05-06 12:08:08.372  Traceback (most recent call last):\n",
      "                                                           File \"/layers/google.python.pip/pip/lib/python3.9/site-packages/flask/app.py\", line 2190, in wsgi_app\n",
      "                                                             response = self.full_dispatch_request()\n",
      "                                                           File \"/layers/google.python.pip/pip/lib/python3.9/site-packages/flask/app.py\", line 1486, in full_dispatch_request\n",
      "                                                             rv = self.handle_user_exception(e)\n",
      "                                                           File \"/layers/google.python.pip/pip/lib/python3.9/site-packages/flask/app.py\", line 1484, in full_dispatch_request\n",
      "                                                             rv = self.dispatch_request()\n",
      "                                                           File \"/layers/google.python.pip/pip/lib/python3.9/site-packages/flask/app.py\", line 1469, in dispatch_request\n",
      "                                                             return self.ensure_sync(self.view_functions[rule.endpoint])(**view_args)\n",
      "                                                           File \"/layers/google.python.pip/pip/lib/python3.9/site-packages/functions_framework/__init__.py\", line 130, in view_func\n",
      "                                                             return function(request._get_current_object())\n",
      "                                                         TypeError: my_http_function() missing 1 required positional argument: 'context'\n",
      "       mymainfun  9zn6cjhsp0p5  2023-05-06 12:08:08.372  [2023-05-06 12:08:08,367] ERROR in app: Exception on / [GET]\n",
      "D      mymainfun  9zn6cjhsp0p5  2023-05-06 12:08:08.353  Function execution started\n",
      "D      mymainfun  skjehbjsdaa7  2023-05-06 12:01:44.980  Function execution took 11 ms, finished with status: 'crash'\n",
      "E      mymainfun  skjehbjsdaa7  2023-05-06 12:01:44.979  Traceback (most recent call last):\n",
      "                                                           File \"/layers/google.python.pip/pip/lib/python3.9/site-packages/flask/app.py\", line 2073, in wsgi_app\n",
      "                                                             response = self.full_dispatch_request()\n",
      "                                                           File \"/layers/google.python.pip/pip/lib/python3.9/site-packages/flask/app.py\", line 1518, in full_dispatch_request\n",
      "                                                             rv = self.handle_user_exception(e)\n",
      "                                                           File \"/layers/google.python.pip/pip/lib/python3.9/site-packages/flask/app.py\", line 1516, in full_dispatch_request\n",
      "                                                             rv = self.dispatch_request()\n",
      "                                                           File \"/layers/google.python.pip/pip/lib/python3.9/site-packages/flask/app.py\", line 1502, in dispatch_request\n",
      "                                                             return self.ensure_sync(self.view_functions[rule.endpoint])(**req.view_args)\n",
      "                                                           File \"/layers/google.python.pip/pip/lib/python3.9/site-packages/functions_framework/__init__.py\", line 130, in view_func\n",
      "                                                             return function(request._get_current_object())\n",
      "                                                         TypeError: main() missing 1 required positional argument: 'context'\n",
      "       mymainfun  skjehbjsdaa7  2023-05-06 12:01:44.979  [2023-05-06 12:01:44,976] ERROR in app: Exception on / [GET]\n",
      "D      mymainfun  skjehbjsdaa7  2023-05-06 12:01:44.969  Function execution started\n",
      "D      mymainfun  drnxdkv6ve1n  2023-05-06 12:01:21.089  Function execution took 12 ms, finished with status: 'crash'\n",
      "E      mymainfun  drnxdkv6ve1n  2023-05-06 12:01:21.088  Traceback (most recent call last):\n",
      "                                                           File \"/layers/google.python.pip/pip/lib/python3.9/site-packages/flask/app.py\", line 2073, in wsgi_app\n",
      "                                                             response = self.full_dispatch_request()\n",
      "                                                           File \"/layers/google.python.pip/pip/lib/python3.9/site-packages/flask/app.py\", line 1518, in full_dispatch_request\n",
      "                                                             rv = self.handle_user_exception(e)\n",
      "                                                           File \"/layers/google.python.pip/pip/lib/python3.9/site-packages/flask/app.py\", line 1516, in full_dispatch_request\n",
      "                                                             rv = self.dispatch_request()\n",
      "                                                           File \"/layers/google.python.pip/pip/lib/python3.9/site-packages/flask/app.py\", line 1502, in dispatch_request\n",
      "                                                             return self.ensure_sync(self.view_functions[rule.endpoint])(**req.view_args)\n",
      "                                                           File \"/layers/google.python.pip/pip/lib/python3.9/site-packages/functions_framework/__init__.py\", line 130, in view_func\n",
      "                                                             return function(request._get_current_object())\n",
      "                                                         TypeError: main() missing 1 required positional argument: 'context'\n",
      "       mymainfun  drnxdkv6ve1n  2023-05-06 12:01:21.088  [2023-05-06 12:01:21,084] ERROR in app: Exception on / [GET]\n",
      "D      mymainfun  drnxdkv6ve1n  2023-05-06 12:01:21.077  Function execution started\n",
      "D      mymainfun  l2i9v0m0mzvi  2023-05-06 11:57:46.351  Function execution took 3 ms, finished with status: 'crash'\n",
      "E      mymainfun  l2i9v0m0mzvi  2023-05-06 11:57:46.350  Traceback (most recent call last):\n",
      "                                                           File \"/layers/google.python.pip/pip/lib/python3.9/site-packages/flask/app.py\", line 2073, in wsgi_app\n",
      "                                                             response = self.full_dispatch_request()\n",
      "                                                           File \"/layers/google.python.pip/pip/lib/python3.9/site-packages/flask/app.py\", line 1518, in full_dispatch_request\n",
      "                                                             rv = self.handle_user_exception(e)\n",
      "                                                           File \"/layers/google.python.pip/pip/lib/python3.9/site-packages/flask/app.py\", line 1516, in full_dispatch_request\n",
      "                                                             rv = self.dispatch_request()\n",
      "                                                           File \"/layers/google.python.pip/pip/lib/python3.9/site-packages/flask/app.py\", line 1502, in dispatch_request\n",
      "                                                             return self.ensure_sync(self.view_functions[rule.endpoint])(**req.view_args)\n",
      "                                                           File \"/layers/google.python.pip/pip/lib/python3.9/site-packages/functions_framework/__init__.py\", line 130, in view_func\n",
      "                                                             return function(request._get_current_object())\n",
      "                                                         TypeError: main() missing 1 required positional argument: 'context'\n",
      "       mymainfun  l2i9v0m0mzvi  2023-05-06 11:57:46.350  [2023-05-06 11:57:46,350] ERROR in app: Exception on / [GET]\n",
      "D      mymainfun  l2i9v0m0mzvi  2023-05-06 11:57:46.348  Function execution started\n"
     ]
    }
   ],
   "source": [
    "!gcloud functions logs read mymainfun"
   ]
  },
  {
   "cell_type": "code",
   "execution_count": 84,
   "id": "eae63e2b",
   "metadata": {},
   "outputs": [
    {
     "name": "stdout",
     "output_type": "stream",
     "text": [
      "                                                         TypeError: my_http_function() missing 1 required positional argument: 'context'\r\n",
      "                                                         TypeError: my_http_function() missing 1 required positional argument: 'context'\r\n",
      "                                                         TypeError: main() missing 1 required positional argument: 'context'\r\n",
      "                                                         TypeError: main() missing 1 required positional argument: 'context'\r\n",
      "                                                         TypeError: main() missing 1 required positional argument: 'context'\r\n"
     ]
    }
   ],
   "source": [
    "!gcloud functions logs read mymainfun | grep context"
   ]
  },
  {
   "cell_type": "code",
   "execution_count": null,
   "id": "a25227b4",
   "metadata": {},
   "outputs": [],
   "source": []
  },
  {
   "cell_type": "markdown",
   "id": "277e6ee8",
   "metadata": {},
   "source": [
    "## Delete Functions "
   ]
  },
  {
   "cell_type": "code",
   "execution_count": 39,
   "id": "5fefd7b4",
   "metadata": {
    "scrolled": false
   },
   "outputs": [
    {
     "name": "stdout",
     "output_type": "stream",
     "text": [
      "Waiting for operation to finish...done.                                        \n",
      "Deleted [projects/khaja-dev/locations/us-central1/functions/myfunc].\n"
     ]
    }
   ],
   "source": [
    "!gcloud functions delete myfunc --region=us-central1 --quiet"
   ]
  },
  {
   "cell_type": "code",
   "execution_count": 41,
   "id": "b0329b5f",
   "metadata": {},
   "outputs": [
    {
     "name": "stdout",
     "output_type": "stream",
     "text": [
      "Waiting for operation to finish...done.                                        \n",
      "Deleted [projects/khaja-dev/locations/asia-south1/functions/mymainfun].\n"
     ]
    }
   ],
   "source": [
    "!gcloud functions delete mymainfun --region=asia-south1 --quiet"
   ]
  },
  {
   "cell_type": "markdown",
   "id": "e5109ff0",
   "metadata": {},
   "source": [
    "## Other Function commands"
   ]
  },
  {
   "cell_type": "raw",
   "id": "47599718",
   "metadata": {},
   "source": [
    "curl -m 70 -X POST URI \\\n",
    "    -H \"Authorization: bearer $(gcloud auth print-identity-token)\" \\\n",
    "    -H \"Content-Type: application/json\" \\\n",
    "    -d '{}'\n",
    "\t\n",
    "\n",
    "gcloud functions add-invoker-policy-binding python-http-function \\\n",
    "      --region=\"asia-south1\" \\\n",
    "      --member=\"MEMBER_NAME\"\n",
    "\n",
    "gcloud functions delete http_func --region=asia-south1"
   ]
  },
  {
   "cell_type": "raw",
   "id": "40725ba8",
   "metadata": {},
   "source": [
    "gcloud functions list: List all the functions deployed in your GCP project.\n",
    "gcloud functions describe FUNCTION_NAME: Get information about a specific function, including its trigger type, runtime, available memory, and timeout limit.\n",
    "gcloud functions logs read FUNCTION_NAME: Read the logs for a specific function, which can help you troubleshoot issues or monitor its behavior.\n",
    "gcloud functions delete FUNCTION_NAME: Delete a function from your GCP project.\n",
    "gcloud functions deploy FUNCTION_NAME --update-labels KEY1=VALUE1,KEY2=VALUE2: Update the labels associated with a function, which can help you organize and track your functions."
   ]
  },
  {
   "cell_type": "raw",
   "id": "b600d26b",
   "metadata": {},
   "source": [
    "from flask import request\n",
    "\n",
    "@app.route('/hello')\n",
    "def hello():\n",
    "    return hello_world(request)\n",
    "-------------------------------\n",
    "\n",
    "--Finalize\n",
    "Event:\n",
    "python-finalize-function i5pwjxguufhs {'bucket': 'myfirstproject_gcp', 'contentType': 'text/x-sh', 'crc32c': 'P6ov8g==', 'etag': 'CJjOi93GiP4CEAE=', 'generation': '1680347630855960', 'id': 'myfirstproject_gcp/bash.sh/1680347630855960', 'kind': 'storage#object', 'md5Hash': 'aghe0udNSbBlvTu/uR0Vbw==', 'mediaLink': 'https://storage.googleapis.com/download/storage/v1/b/myfirstproject_gcp/o/bash.sh?generation=1680347630855960&alt=media', 'metageneration': '1', 'name': 'bash.sh', 'selfLink': 'https://www.googleapis.com/storage/v1/b/myfirstproject_gcp/o/bash.sh', 'size': '184', 'storageClass': 'STANDARD', 'timeCreated': '2023-04-01T11:13:50.861Z', 'timeStorageClassUpdated': '2023-04-01T11:13:50.861Z', 'updated': '2023-04-01T11:13:50.861Z'}\n",
    "\n",
    "Context:\n",
    "python-finalize-functioni5pwjxguufhs {event_id: 7371363523714501, timestamp: 2023-04-01T11:13:51.241Z, event_type: google.storage.object.finalize, resource: {'name': 'projects/_/buckets/myfirstproject_gcp/objects/bash.sh', 'service': 'storage.googleapis.com', 'type': 'storage#object'}}\n",
    "\n",
    "--Delete\n",
    "Event:\n",
    "python-delete-function kn5qqk6hddm7 {'bucket': 'myfirstproject_gcp', 'contentType': 'text/x-sh', 'crc32c': 'P6ov8g==', 'etag': 'CJjOi93GiP4CEAE=', 'generation': '1680347630855960', 'id': 'myfirstproject_gcp/bash.sh/1680347630855960', 'kind': 'storage#object', 'md5Hash': 'aghe0udNSbBlvTu/uR0Vbw==', 'mediaLink': 'https://storage.googleapis.com/download/storage/v1/b/myfirstproject_gcp/o/bash.sh?generation=1680347630855960&alt=media', 'metageneration': '1', 'name': 'bash.sh', 'selfLink': 'https://www.googleapis.com/storage/v1/b/myfirstproject_gcp/o/bash.sh', 'size': '184', 'storageClass': 'STANDARD', 'timeCreated': '2023-04-01T11:13:50.861Z', 'timeStorageClassUpdated': '2023-04-01T11:13:50.861Z', 'updated': '2023-04-01T11:13:50.861Z'}\n",
    "\n",
    "Context:\n",
    "python-delete-functionkn5qqk6hddm7 {event_id: 7371566129937414, timestamp: 2023-04-01T11:32:24.352Z, event_type: google.storage.object.delete, resource: {'name': 'projects/_/buckets/myfirstproject_gcp/objects/bash.sh', 'service': 'storage.googleapis.com', 'type': 'storage#object'}}"
   ]
  },
  {
   "cell_type": "code",
   "execution_count": null,
   "id": "1493b643",
   "metadata": {},
   "outputs": [],
   "source": []
  },
  {
   "cell_type": "raw",
   "id": "b2923dc0",
   "metadata": {},
   "source": [
    "# PUBSUB\n",
    "from google.cloud import pubsub_v1\n",
    "\n",
    "def process_message(message):\n",
    "    \"\"\"\n",
    "    Process a Pub/Sub message.\n",
    "    \"\"\"\n",
    "    data = message.data.decode('utf-8')\n",
    "    print(f'Received message: {data}')\n",
    "    message.ack()\n",
    "\n",
    "def pubsub_handler(event, context):\n",
    "    \"\"\"\n",
    "    Entry point for the Cloud Function.\n",
    "    \"\"\"\n",
    "    project_id = 'my-project'\n",
    "    subscription_name = 'my-subscription'\n",
    "\n",
    "    subscriber = pubsub_v1.SubscriberClient()\n",
    "    subscription_path = subscriber.subscription_path(project_id, subscription_name)\n",
    "\n",
    "    def callback(message):\n",
    "        process_message(message)\n",
    "\n",
    "    future = subscriber.subscribe(subscription_path, callback)\n",
    "    try:\n",
    "        future.result()\n",
    "    except KeyboardInterrupt:\n",
    "        future.cancel()\n",
    "\n",
    "-------------------------------------------------------------------------------------------\n",
    "gcloud functions deploy pubsub-handler \\\n",
    "    --runtime python39 \\\n",
    "    --trigger-topic my-topic \\\n",
    "    --memory 256MB \\\n",
    "    --timeout 60s \\\n",
    "    --service-account my-service-account@my-project.iam.gserviceaccount.com"
   ]
  },
  {
   "cell_type": "raw",
   "id": "27ad4f2e",
   "metadata": {},
   "source": [
    "\n",
    "import base64\n",
    "\n",
    "def hello_pubsub(event, context):\n",
    "    \"\"\"Triggered from a message on a Cloud Pub/Sub topic.\n",
    "    Args:\n",
    "         event (dict): Event payload.\n",
    "         context (google.cloud.functions.Context): Metadata for the event.\n",
    "    \"\"\"\n",
    "    pubsub_message = base64.b64decode(event['data']).decode('utf-8')\n",
    "    print(pubsub_message)\n",
    "\tprint(event)\n",
    "\tprint(context)\n",
    "\n",
    "\n",
    "\n",
    "\n",
    "\n",
    "Event:\n",
    "{'@type': 'type.googleapis.com/google.pubsub.v1.PubsubMessage', 'attributes': None, 'data': 'd2VsbA=='}\n",
    "\n",
    "Context:\n",
    "function-2blf9wz8bh49h {event_id: 7371982911086269, timestamp: 2023-04-01T12:31:05.827Z, event_type: google.pubsub.topic.publish, resource: {'name': 'projects/caramel-graph-380406/topics/mytopic', 'service': 'pubsub.googleapis.com', 'type': 'type.googleapis.com/google.pubsub.v1.PubsubMessage'}}"
   ]
  },
  {
   "cell_type": "code",
   "execution_count": null,
   "id": "4ba27a30",
   "metadata": {},
   "outputs": [],
   "source": []
  },
  {
   "cell_type": "code",
   "execution_count": null,
   "id": "59dc23f7",
   "metadata": {},
   "outputs": [],
   "source": []
  }
 ],
 "metadata": {
  "kernelspec": {
   "display_name": "Python 3 (ipykernel)",
   "language": "python",
   "name": "python3"
  },
  "language_info": {
   "codemirror_mode": {
    "name": "ipython",
    "version": 3
   },
   "file_extension": ".py",
   "mimetype": "text/x-python",
   "name": "python",
   "nbconvert_exporter": "python",
   "pygments_lexer": "ipython3",
   "version": "3.8.10"
  }
 },
 "nbformat": 4,
 "nbformat_minor": 5
}
