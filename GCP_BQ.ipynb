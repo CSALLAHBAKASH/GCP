{
 "cells": [
  {
   "cell_type": "markdown",
   "metadata": {},
   "source": [
    "# Python with Bigquery"
   ]
  },
  {
   "cell_type": "markdown",
   "metadata": {},
   "source": [
    "!pip install google-cloud-bigquery"
   ]
  },
  {
   "cell_type": "code",
   "execution_count": 13,
   "metadata": {},
   "outputs": [],
   "source": [
    "import os\n",
    "os.environ[\"GOOGLE_APPLICATION_CREDENTIALS\"]=\"/home/ali/key.json\""
   ]
  },
  {
   "cell_type": "code",
   "execution_count": 14,
   "metadata": {},
   "outputs": [],
   "source": [
    "from google.cloud import bigquery\n",
    "\n",
    "client = bigquery.Client()"
   ]
  },
  {
   "cell_type": "code",
   "execution_count": 15,
   "metadata": {},
   "outputs": [
    {
     "data": {
      "text/plain": [
       "['SCOPE',\n",
       " '_SET_PROJECT',\n",
       " '__annotations__',\n",
       " '__class__',\n",
       " '__delattr__',\n",
       " '__dict__',\n",
       " '__dir__',\n",
       " '__doc__',\n",
       " '__enter__',\n",
       " '__eq__',\n",
       " '__exit__',\n",
       " '__format__',\n",
       " '__ge__',\n",
       " '__getattribute__',\n",
       " '__getstate__',\n",
       " '__gt__',\n",
       " '__hash__',\n",
       " '__init__',\n",
       " '__init_subclass__',\n",
       " '__le__',\n",
       " '__lt__',\n",
       " '__module__',\n",
       " '__ne__',\n",
       " '__new__',\n",
       " '__reduce__',\n",
       " '__reduce_ex__',\n",
       " '__repr__',\n",
       " '__setattr__',\n",
       " '__sizeof__',\n",
       " '__str__',\n",
       " '__subclasshook__',\n",
       " '__weakref__',\n",
       " '_call_api',\n",
       " '_client_cert_source',\n",
       " '_connection',\n",
       " '_credentials',\n",
       " '_dataset_from_arg',\n",
       " '_default_load_job_config',\n",
       " '_default_query_job_config',\n",
       " '_determine_default',\n",
       " '_do_multipart_upload',\n",
       " '_do_resumable_upload',\n",
       " '_ensure_bqstorage_client',\n",
       " '_get_query_results',\n",
       " '_http',\n",
       " '_http_internal',\n",
       " '_initiate_resumable_upload',\n",
       " '_list_rows_from_query_results',\n",
       " '_location',\n",
       " '_schema_from_json_file_object',\n",
       " '_schema_to_json_file_object',\n",
       " 'cancel_job',\n",
       " 'close',\n",
       " 'copy_table',\n",
       " 'create_dataset',\n",
       " 'create_job',\n",
       " 'create_routine',\n",
       " 'create_table',\n",
       " 'dataset',\n",
       " 'default_load_job_config',\n",
       " 'default_query_job_config',\n",
       " 'delete_dataset',\n",
       " 'delete_job_metadata',\n",
       " 'delete_model',\n",
       " 'delete_routine',\n",
       " 'delete_table',\n",
       " 'extract_table',\n",
       " 'from_service_account_info',\n",
       " 'from_service_account_json',\n",
       " 'get_dataset',\n",
       " 'get_iam_policy',\n",
       " 'get_job',\n",
       " 'get_model',\n",
       " 'get_routine',\n",
       " 'get_service_account_email',\n",
       " 'get_table',\n",
       " 'insert_rows',\n",
       " 'insert_rows_from_dataframe',\n",
       " 'insert_rows_json',\n",
       " 'job_from_resource',\n",
       " 'list_datasets',\n",
       " 'list_jobs',\n",
       " 'list_models',\n",
       " 'list_partitions',\n",
       " 'list_projects',\n",
       " 'list_routines',\n",
       " 'list_rows',\n",
       " 'list_tables',\n",
       " 'load_table_from_dataframe',\n",
       " 'load_table_from_file',\n",
       " 'load_table_from_json',\n",
       " 'load_table_from_uri',\n",
       " 'location',\n",
       " 'project',\n",
       " 'query',\n",
       " 'schema_from_json',\n",
       " 'schema_to_json',\n",
       " 'set_iam_policy',\n",
       " 'test_iam_permissions',\n",
       " 'update_dataset',\n",
       " 'update_model',\n",
       " 'update_routine',\n",
       " 'update_table']"
      ]
     },
     "execution_count": 15,
     "metadata": {},
     "output_type": "execute_result"
    }
   ],
   "source": [
    "dir(client)"
   ]
  },
  {
   "cell_type": "code",
   "execution_count": 16,
   "metadata": {},
   "outputs": [
    {
     "name": "stdout",
     "output_type": "stream",
     "text": [
      "<google.cloud.bigquery.dataset.DatasetListItem object at 0x7f509c47b340>\n"
     ]
    }
   ],
   "source": [
    "for i in client.list_datasets(project=\"khaja-dev\"):\n",
    "    print(i)"
   ]
  },
  {
   "cell_type": "code",
   "execution_count": 27,
   "metadata": {},
   "outputs": [
    {
     "name": "stdout",
     "output_type": "stream",
     "text": [
      "mydb\n",
      "None\n",
      "khaja-dev:mydb\n",
      "{}\n",
      "<bound method _get_model_reference of <google.cloud.bigquery.dataset.DatasetListItem object at 0x7f506c24ef70>>\n",
      "khaja-dev\n",
      "khaja-dev.mydb\n",
      "<bound method _get_routine_reference of <google.cloud.bigquery.dataset.DatasetListItem object at 0x7f506c24ef70>>\n",
      "<bound method _get_table_reference of <google.cloud.bigquery.dataset.DatasetListItem object at 0x7f506c24ef70>>\n",
      "['__class__', '__delattr__', '__dict__', '__dir__', '__doc__', '__eq__', '__format__', '__ge__', '__getattribute__', '__gt__', '__hash__', '__init__', '__init_subclass__', '__le__', '__lt__', '__module__', '__ne__', '__new__', '__reduce__', '__reduce_ex__', '__repr__', '__setattr__', '__sizeof__', '__str__', '__subclasshook__', '__weakref__', '_properties', 'dataset_id', 'friendly_name', 'full_dataset_id', 'labels', 'model', 'project', 'reference', 'routine', 'table']\n"
     ]
    }
   ],
   "source": [
    "for i in client.list_datasets(project=\"khaja-dev\"):\n",
    "    print(i.dataset_id)\n",
    "    print(i.friendly_name)\n",
    "    print(i.full_dataset_id)\n",
    "    print(i.labels)\n",
    "    print(i.model)\n",
    "    print(i.project)\n",
    "    print(i.reference)\n",
    "    print(i.routine)\n",
    "    print(i.table)\n",
    "    print(dir(i))"
   ]
  },
  {
   "cell_type": "code",
   "execution_count": 25,
   "metadata": {},
   "outputs": [
    {
     "name": "stdout",
     "output_type": "stream",
     "text": [
      "mytb\n",
      "mytb2\n"
     ]
    }
   ],
   "source": [
    "for i in client.list_tables(dataset=\"mydb\"):\n",
    "    print(i.table_id)"
   ]
  },
  {
   "cell_type": "code",
   "execution_count": 29,
   "metadata": {},
   "outputs": [],
   "source": [
    "for i in client.list_tables(dataset=\"mydb\"):\n",
    "    print(i.table_id)\n",
    "    print(i.clustering_fields)\n",
    "    print(i.created)\n",
    "    print(i.dataset_id)\n",
    "    print(i.friendly_name)\n",
    "    print(i.from_string)\n",
    "    print(i.full_table_id)\n",
    "    print(i.labels)\n",
    "    print(i.partition_expiration)\n",
    "    print(i.partitioning_type)\n",
    "    print(i.path)\n",
    "    print(i.project)\n",
    "    print(i.reference)\n",
    "    print(i.table_id)\n",
    "    print(i.table_type)\n",
    "    print(i.time_partitioning)\n",
    "    print(i.to_api_repr)\n",
    "    print(i.table_id)\n",
    "    print(i.to_bqstorage)\n",
    "    print(i.view_use_legacy_sql)\n",
    "    print(dir(i))"
   ]
  },
  {
   "cell_type": "code",
   "execution_count": 17,
   "metadata": {},
   "outputs": [
    {
     "name": "stdout",
     "output_type": "stream",
     "text": [
      "I0428 11:26:12.179630 139659829090112 bigquery_client.py:730] There is no apilog flag so non-critical logging is disabled.\n",
      "  datasetId  \n",
      " ----------- \n",
      "  mydb       \n"
     ]
    }
   ],
   "source": [
    "!bq ls"
   ]
  },
  {
   "cell_type": "code",
   "execution_count": 23,
   "metadata": {},
   "outputs": [
    {
     "name": "stdout",
     "output_type": "stream",
     "text": [
      "Datasets in project khaja-dev:\n",
      "\tmydb\n"
     ]
    }
   ],
   "source": [
    "from google.cloud import bigquery\n",
    "\n",
    "# Construct a BigQuery client object.\n",
    "client = bigquery.Client()\n",
    "\n",
    "datasets = list(client.list_datasets())  # Make an API request.\n",
    "project = client.project\n",
    "\n",
    "if datasets:\n",
    "    print(\"Datasets in project {}:\".format(project))\n",
    "    for dataset in datasets:\n",
    "        print(\"\\t{}\".format(dataset.dataset_id))\n",
    "else:\n",
    "    print(\"{} project does not contain any datasets.\".format(project))"
   ]
  },
  {
   "cell_type": "code",
   "execution_count": null,
   "metadata": {},
   "outputs": [],
   "source": []
  },
  {
   "cell_type": "code",
   "execution_count": null,
   "metadata": {},
   "outputs": [],
   "source": []
  },
  {
   "cell_type": "code",
   "execution_count": null,
   "metadata": {},
   "outputs": [],
   "source": []
  },
  {
   "cell_type": "code",
   "execution_count": null,
   "metadata": {},
   "outputs": [],
   "source": []
  },
  {
   "cell_type": "code",
   "execution_count": null,
   "metadata": {},
   "outputs": [],
   "source": []
  },
  {
   "cell_type": "code",
   "execution_count": null,
   "metadata": {},
   "outputs": [],
   "source": []
  },
  {
   "cell_type": "code",
   "execution_count": null,
   "metadata": {},
   "outputs": [],
   "source": []
  },
  {
   "cell_type": "code",
   "execution_count": null,
   "metadata": {},
   "outputs": [],
   "source": []
  },
  {
   "cell_type": "code",
   "execution_count": null,
   "metadata": {},
   "outputs": [],
   "source": []
  },
  {
   "cell_type": "code",
   "execution_count": null,
   "metadata": {},
   "outputs": [],
   "source": []
  },
  {
   "cell_type": "code",
   "execution_count": null,
   "metadata": {},
   "outputs": [],
   "source": []
  },
  {
   "cell_type": "code",
   "execution_count": null,
   "metadata": {},
   "outputs": [],
   "source": []
  },
  {
   "cell_type": "code",
   "execution_count": null,
   "metadata": {},
   "outputs": [],
   "source": []
  },
  {
   "cell_type": "code",
   "execution_count": null,
   "metadata": {},
   "outputs": [],
   "source": []
  },
  {
   "cell_type": "code",
   "execution_count": null,
   "metadata": {},
   "outputs": [],
   "source": []
  },
  {
   "cell_type": "code",
   "execution_count": null,
   "metadata": {},
   "outputs": [],
   "source": []
  },
  {
   "cell_type": "code",
   "execution_count": null,
   "metadata": {},
   "outputs": [],
   "source": []
  },
  {
   "cell_type": "code",
   "execution_count": null,
   "metadata": {},
   "outputs": [],
   "source": []
  },
  {
   "cell_type": "code",
   "execution_count": null,
   "metadata": {},
   "outputs": [],
   "source": []
  },
  {
   "cell_type": "code",
   "execution_count": null,
   "metadata": {},
   "outputs": [],
   "source": []
  },
  {
   "cell_type": "code",
   "execution_count": null,
   "metadata": {},
   "outputs": [],
   "source": []
  },
  {
   "cell_type": "code",
   "execution_count": null,
   "metadata": {},
   "outputs": [],
   "source": []
  },
  {
   "cell_type": "code",
   "execution_count": null,
   "metadata": {},
   "outputs": [],
   "source": []
  },
  {
   "cell_type": "code",
   "execution_count": null,
   "metadata": {},
   "outputs": [],
   "source": []
  },
  {
   "cell_type": "code",
   "execution_count": null,
   "metadata": {},
   "outputs": [],
   "source": []
  },
  {
   "cell_type": "code",
   "execution_count": null,
   "metadata": {},
   "outputs": [],
   "source": []
  },
  {
   "cell_type": "code",
   "execution_count": null,
   "metadata": {},
   "outputs": [],
   "source": []
  },
  {
   "cell_type": "code",
   "execution_count": null,
   "metadata": {},
   "outputs": [],
   "source": []
  },
  {
   "cell_type": "code",
   "execution_count": null,
   "metadata": {},
   "outputs": [],
   "source": []
  },
  {
   "cell_type": "code",
   "execution_count": null,
   "metadata": {},
   "outputs": [],
   "source": []
  },
  {
   "cell_type": "code",
   "execution_count": null,
   "metadata": {},
   "outputs": [],
   "source": []
  },
  {
   "cell_type": "code",
   "execution_count": null,
   "metadata": {},
   "outputs": [],
   "source": []
  },
  {
   "cell_type": "code",
   "execution_count": null,
   "metadata": {},
   "outputs": [],
   "source": []
  },
  {
   "cell_type": "code",
   "execution_count": null,
   "metadata": {},
   "outputs": [],
   "source": []
  }
 ],
 "metadata": {
  "kernelspec": {
   "display_name": "Python 3 (ipykernel)",
   "language": "python",
   "name": "python3"
  },
  "language_info": {
   "codemirror_mode": {
    "name": "ipython",
    "version": 3
   },
   "file_extension": ".py",
   "mimetype": "text/x-python",
   "name": "python",
   "nbconvert_exporter": "python",
   "pygments_lexer": "ipython3",
   "version": "3.8.10"
  }
 },
 "nbformat": 4,
 "nbformat_minor": 2
}
