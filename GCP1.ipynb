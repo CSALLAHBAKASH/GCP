{
 "cells": [
  {
   "cell_type": "code",
   "execution_count": 1,
   "id": "443e9f2b-845d-4182-bae1-4678adda59cc",
   "metadata": {
    "tags": []
   },
   "outputs": [
    {
     "name": "stdout",
     "output_type": "stream",
     "text": [
      "hello\n"
     ]
    }
   ],
   "source": [
    "print(\"hello\")"
   ]
  },
  {
   "cell_type": "code",
   "execution_count": 11,
   "id": "f09fd66e-9bfa-4b6c-82e3-13873fc4f302",
   "metadata": {
    "tags": []
   },
   "outputs": [],
   "source": [
    "import warnings"
   ]
  },
  {
   "cell_type": "code",
   "execution_count": 13,
   "id": "f89665d7-dcec-425d-a1ce-bf5e8aa03218",
   "metadata": {
    "tags": []
   },
   "outputs": [],
   "source": [
    "warnings.filterwarnings(\"ignore\")"
   ]
  },
  {
   "cell_type": "code",
   "execution_count": 99,
   "id": "ae250974-559e-4fa9-91b5-f418d1227c62",
   "metadata": {
    "tags": []
   },
   "outputs": [
    {
     "data": {
      "text/plain": [
       "'key.json'"
      ]
     },
     "execution_count": 99,
     "metadata": {},
     "output_type": "execute_result"
    }
   ],
   "source": [
    "os.environ[\"GOOGLE_APPLICATION_CREDENTIALS\"]"
   ]
  },
  {
   "cell_type": "code",
   "execution_count": null,
   "id": "e8adeac4-2ecb-46c6-883c-b606ea6f231b",
   "metadata": {},
   "outputs": [],
   "source": []
  },
  {
   "cell_type": "markdown",
   "id": "7273b11f-4ec5-4da7-a62c-4ed0d61d0b40",
   "metadata": {},
   "source": [
    "# GOOGLE CLOUD STORAGE"
   ]
  },
  {
   "cell_type": "raw",
   "id": "82fce3aa-14a3-4072-bef7-61a86bba7915",
   "metadata": {
    "tags": []
   },
   "source": [
    "!pip install google-cloud-storage\n"
   ]
  },
  {
   "cell_type": "code",
   "execution_count": 100,
   "id": "5c1d7ce1-7e9d-4bb0-9bbf-797b8441707c",
   "metadata": {
    "tags": []
   },
   "outputs": [
    {
     "ename": "Forbidden",
     "evalue": "403 POST https://storage.googleapis.com/storage/v1/b?project=khaja-dev&prettyPrint=false: khaja-dv@khaja-dev.iam.gserviceaccount.com does not have storage.buckets.create access to the Google Cloud project. Permission 'storage.buckets.create' denied on resource (or it may not exist).",
     "output_type": "error",
     "traceback": [
      "\u001b[0;31m---------------------------------------------------------------------------\u001b[0m",
      "\u001b[0;31mForbidden\u001b[0m                                 Traceback (most recent call last)",
      "Cell \u001b[0;32mIn[100], line 11\u001b[0m\n\u001b[1;32m      8\u001b[0m bucket_name \u001b[38;5;241m=\u001b[39m \u001b[38;5;124m\"\u001b[39m\u001b[38;5;124mgcp-dv-bucket\u001b[39m\u001b[38;5;124m\"\u001b[39m\n\u001b[1;32m     10\u001b[0m \u001b[38;5;66;03m# Creates the new bucket\u001b[39;00m\n\u001b[0;32m---> 11\u001b[0m bucket \u001b[38;5;241m=\u001b[39m \u001b[43mstorage_client\u001b[49m\u001b[38;5;241;43m.\u001b[39;49m\u001b[43mcreate_bucket\u001b[49m\u001b[43m(\u001b[49m\u001b[43mbucket_name\u001b[49m\u001b[43m)\u001b[49m\n\u001b[1;32m     13\u001b[0m \u001b[38;5;28mprint\u001b[39m(\u001b[38;5;124mf\u001b[39m\u001b[38;5;124m\"\u001b[39m\u001b[38;5;124mBucket \u001b[39m\u001b[38;5;132;01m{\u001b[39;00mbucket\u001b[38;5;241m.\u001b[39mname\u001b[38;5;132;01m}\u001b[39;00m\u001b[38;5;124m created.\u001b[39m\u001b[38;5;124m\"\u001b[39m)\n",
      "File \u001b[0;32m~/venv/lib/python3.8/site-packages/google/cloud/storage/client.py:953\u001b[0m, in \u001b[0;36mClient.create_bucket\u001b[0;34m(self, bucket_or_name, requester_pays, project, user_project, location, data_locations, predefined_acl, predefined_default_object_acl, timeout, retry)\u001b[0m\n\u001b[1;32m    950\u001b[0m \u001b[38;5;28;01mif\u001b[39;00m data_locations \u001b[38;5;129;01mis\u001b[39;00m \u001b[38;5;129;01mnot\u001b[39;00m \u001b[38;5;28;01mNone\u001b[39;00m:\n\u001b[1;32m    951\u001b[0m     properties[\u001b[38;5;124m\"\u001b[39m\u001b[38;5;124mcustomPlacementConfig\u001b[39m\u001b[38;5;124m\"\u001b[39m] \u001b[38;5;241m=\u001b[39m {\u001b[38;5;124m\"\u001b[39m\u001b[38;5;124mdataLocations\u001b[39m\u001b[38;5;124m\"\u001b[39m: data_locations}\n\u001b[0;32m--> 953\u001b[0m api_response \u001b[38;5;241m=\u001b[39m \u001b[38;5;28;43mself\u001b[39;49m\u001b[38;5;241;43m.\u001b[39;49m\u001b[43m_post_resource\u001b[49m\u001b[43m(\u001b[49m\n\u001b[1;32m    954\u001b[0m \u001b[43m    \u001b[49m\u001b[38;5;124;43m\"\u001b[39;49m\u001b[38;5;124;43m/b\u001b[39;49m\u001b[38;5;124;43m\"\u001b[39;49m\u001b[43m,\u001b[49m\n\u001b[1;32m    955\u001b[0m \u001b[43m    \u001b[49m\u001b[43mproperties\u001b[49m\u001b[43m,\u001b[49m\n\u001b[1;32m    956\u001b[0m \u001b[43m    \u001b[49m\u001b[43mquery_params\u001b[49m\u001b[38;5;241;43m=\u001b[39;49m\u001b[43mquery_params\u001b[49m\u001b[43m,\u001b[49m\n\u001b[1;32m    957\u001b[0m \u001b[43m    \u001b[49m\u001b[43mtimeout\u001b[49m\u001b[38;5;241;43m=\u001b[39;49m\u001b[43mtimeout\u001b[49m\u001b[43m,\u001b[49m\n\u001b[1;32m    958\u001b[0m \u001b[43m    \u001b[49m\u001b[43mretry\u001b[49m\u001b[38;5;241;43m=\u001b[39;49m\u001b[43mretry\u001b[49m\u001b[43m,\u001b[49m\n\u001b[1;32m    959\u001b[0m \u001b[43m    \u001b[49m\u001b[43m_target_object\u001b[49m\u001b[38;5;241;43m=\u001b[39;49m\u001b[43mbucket\u001b[49m\u001b[43m,\u001b[49m\n\u001b[1;32m    960\u001b[0m \u001b[43m\u001b[49m\u001b[43m)\u001b[49m\n\u001b[1;32m    962\u001b[0m bucket\u001b[38;5;241m.\u001b[39m_set_properties(api_response)\n\u001b[1;32m    963\u001b[0m \u001b[38;5;28;01mreturn\u001b[39;00m bucket\n",
      "File \u001b[0;32m~/venv/lib/python3.8/site-packages/google/cloud/storage/client.py:617\u001b[0m, in \u001b[0;36mClient._post_resource\u001b[0;34m(self, path, data, query_params, headers, timeout, retry, _target_object)\u001b[0m\n\u001b[1;32m    556\u001b[0m \u001b[38;5;28;01mdef\u001b[39;00m \u001b[38;5;21m_post_resource\u001b[39m(\n\u001b[1;32m    557\u001b[0m     \u001b[38;5;28mself\u001b[39m,\n\u001b[1;32m    558\u001b[0m     path,\n\u001b[0;32m   (...)\u001b[0m\n\u001b[1;32m    564\u001b[0m     _target_object\u001b[38;5;241m=\u001b[39m\u001b[38;5;28;01mNone\u001b[39;00m,\n\u001b[1;32m    565\u001b[0m ):\n\u001b[1;32m    566\u001b[0m \u001b[38;5;250m    \u001b[39m\u001b[38;5;124;03m\"\"\"Helper for bucket / blob methods making API 'POST' calls.\u001b[39;00m\n\u001b[1;32m    567\u001b[0m \n\u001b[1;32m    568\u001b[0m \u001b[38;5;124;03m    Args:\u001b[39;00m\n\u001b[0;32m   (...)\u001b[0m\n\u001b[1;32m    614\u001b[0m \u001b[38;5;124;03m            If the bucket is not found.\u001b[39;00m\n\u001b[1;32m    615\u001b[0m \u001b[38;5;124;03m    \"\"\"\u001b[39;00m\n\u001b[0;32m--> 617\u001b[0m     \u001b[38;5;28;01mreturn\u001b[39;00m \u001b[38;5;28;43mself\u001b[39;49m\u001b[38;5;241;43m.\u001b[39;49m\u001b[43m_connection\u001b[49m\u001b[38;5;241;43m.\u001b[39;49m\u001b[43mapi_request\u001b[49m\u001b[43m(\u001b[49m\n\u001b[1;32m    618\u001b[0m \u001b[43m        \u001b[49m\u001b[43mmethod\u001b[49m\u001b[38;5;241;43m=\u001b[39;49m\u001b[38;5;124;43m\"\u001b[39;49m\u001b[38;5;124;43mPOST\u001b[39;49m\u001b[38;5;124;43m\"\u001b[39;49m\u001b[43m,\u001b[49m\n\u001b[1;32m    619\u001b[0m \u001b[43m        \u001b[49m\u001b[43mpath\u001b[49m\u001b[38;5;241;43m=\u001b[39;49m\u001b[43mpath\u001b[49m\u001b[43m,\u001b[49m\n\u001b[1;32m    620\u001b[0m \u001b[43m        \u001b[49m\u001b[43mdata\u001b[49m\u001b[38;5;241;43m=\u001b[39;49m\u001b[43mdata\u001b[49m\u001b[43m,\u001b[49m\n\u001b[1;32m    621\u001b[0m \u001b[43m        \u001b[49m\u001b[43mquery_params\u001b[49m\u001b[38;5;241;43m=\u001b[39;49m\u001b[43mquery_params\u001b[49m\u001b[43m,\u001b[49m\n\u001b[1;32m    622\u001b[0m \u001b[43m        \u001b[49m\u001b[43mheaders\u001b[49m\u001b[38;5;241;43m=\u001b[39;49m\u001b[43mheaders\u001b[49m\u001b[43m,\u001b[49m\n\u001b[1;32m    623\u001b[0m \u001b[43m        \u001b[49m\u001b[43mtimeout\u001b[49m\u001b[38;5;241;43m=\u001b[39;49m\u001b[43mtimeout\u001b[49m\u001b[43m,\u001b[49m\n\u001b[1;32m    624\u001b[0m \u001b[43m        \u001b[49m\u001b[43mretry\u001b[49m\u001b[38;5;241;43m=\u001b[39;49m\u001b[43mretry\u001b[49m\u001b[43m,\u001b[49m\n\u001b[1;32m    625\u001b[0m \u001b[43m        \u001b[49m\u001b[43m_target_object\u001b[49m\u001b[38;5;241;43m=\u001b[39;49m\u001b[43m_target_object\u001b[49m\u001b[43m,\u001b[49m\n\u001b[1;32m    626\u001b[0m \u001b[43m    \u001b[49m\u001b[43m)\u001b[49m\n",
      "File \u001b[0;32m~/venv/lib/python3.8/site-packages/google/cloud/storage/_http.py:72\u001b[0m, in \u001b[0;36mConnection.api_request\u001b[0;34m(self, *args, **kwargs)\u001b[0m\n\u001b[1;32m     70\u001b[0m     \u001b[38;5;28;01mif\u001b[39;00m retry:\n\u001b[1;32m     71\u001b[0m         call \u001b[38;5;241m=\u001b[39m retry(call)\n\u001b[0;32m---> 72\u001b[0m \u001b[38;5;28;01mreturn\u001b[39;00m \u001b[43mcall\u001b[49m\u001b[43m(\u001b[49m\u001b[43m)\u001b[49m\n",
      "File \u001b[0;32m~/venv/lib/python3.8/site-packages/google/api_core/retry.py:349\u001b[0m, in \u001b[0;36mRetry.__call__.<locals>.retry_wrapped_func\u001b[0;34m(*args, **kwargs)\u001b[0m\n\u001b[1;32m    345\u001b[0m target \u001b[38;5;241m=\u001b[39m functools\u001b[38;5;241m.\u001b[39mpartial(func, \u001b[38;5;241m*\u001b[39margs, \u001b[38;5;241m*\u001b[39m\u001b[38;5;241m*\u001b[39mkwargs)\n\u001b[1;32m    346\u001b[0m sleep_generator \u001b[38;5;241m=\u001b[39m exponential_sleep_generator(\n\u001b[1;32m    347\u001b[0m     \u001b[38;5;28mself\u001b[39m\u001b[38;5;241m.\u001b[39m_initial, \u001b[38;5;28mself\u001b[39m\u001b[38;5;241m.\u001b[39m_maximum, multiplier\u001b[38;5;241m=\u001b[39m\u001b[38;5;28mself\u001b[39m\u001b[38;5;241m.\u001b[39m_multiplier\n\u001b[1;32m    348\u001b[0m )\n\u001b[0;32m--> 349\u001b[0m \u001b[38;5;28;01mreturn\u001b[39;00m \u001b[43mretry_target\u001b[49m\u001b[43m(\u001b[49m\n\u001b[1;32m    350\u001b[0m \u001b[43m    \u001b[49m\u001b[43mtarget\u001b[49m\u001b[43m,\u001b[49m\n\u001b[1;32m    351\u001b[0m \u001b[43m    \u001b[49m\u001b[38;5;28;43mself\u001b[39;49m\u001b[38;5;241;43m.\u001b[39;49m\u001b[43m_predicate\u001b[49m\u001b[43m,\u001b[49m\n\u001b[1;32m    352\u001b[0m \u001b[43m    \u001b[49m\u001b[43msleep_generator\u001b[49m\u001b[43m,\u001b[49m\n\u001b[1;32m    353\u001b[0m \u001b[43m    \u001b[49m\u001b[38;5;28;43mself\u001b[39;49m\u001b[38;5;241;43m.\u001b[39;49m\u001b[43m_timeout\u001b[49m\u001b[43m,\u001b[49m\n\u001b[1;32m    354\u001b[0m \u001b[43m    \u001b[49m\u001b[43mon_error\u001b[49m\u001b[38;5;241;43m=\u001b[39;49m\u001b[43mon_error\u001b[49m\u001b[43m,\u001b[49m\n\u001b[1;32m    355\u001b[0m \u001b[43m\u001b[49m\u001b[43m)\u001b[49m\n",
      "File \u001b[0;32m~/venv/lib/python3.8/site-packages/google/api_core/retry.py:191\u001b[0m, in \u001b[0;36mretry_target\u001b[0;34m(target, predicate, sleep_generator, timeout, on_error, **kwargs)\u001b[0m\n\u001b[1;32m    189\u001b[0m \u001b[38;5;28;01mfor\u001b[39;00m sleep \u001b[38;5;129;01min\u001b[39;00m sleep_generator:\n\u001b[1;32m    190\u001b[0m     \u001b[38;5;28;01mtry\u001b[39;00m:\n\u001b[0;32m--> 191\u001b[0m         \u001b[38;5;28;01mreturn\u001b[39;00m \u001b[43mtarget\u001b[49m\u001b[43m(\u001b[49m\u001b[43m)\u001b[49m\n\u001b[1;32m    193\u001b[0m     \u001b[38;5;66;03m# pylint: disable=broad-except\u001b[39;00m\n\u001b[1;32m    194\u001b[0m     \u001b[38;5;66;03m# This function explicitly must deal with broad exceptions.\u001b[39;00m\n\u001b[1;32m    195\u001b[0m     \u001b[38;5;28;01mexcept\u001b[39;00m \u001b[38;5;167;01mException\u001b[39;00m \u001b[38;5;28;01mas\u001b[39;00m exc:\n",
      "File \u001b[0;32m~/venv/lib/python3.8/site-packages/google/cloud/_http/__init__.py:494\u001b[0m, in \u001b[0;36mJSONConnection.api_request\u001b[0;34m(self, method, path, query_params, data, content_type, headers, api_base_url, api_version, expect_json, _target_object, timeout, extra_api_info)\u001b[0m\n\u001b[1;32m    482\u001b[0m response \u001b[38;5;241m=\u001b[39m \u001b[38;5;28mself\u001b[39m\u001b[38;5;241m.\u001b[39m_make_request(\n\u001b[1;32m    483\u001b[0m     method\u001b[38;5;241m=\u001b[39mmethod,\n\u001b[1;32m    484\u001b[0m     url\u001b[38;5;241m=\u001b[39murl,\n\u001b[0;32m   (...)\u001b[0m\n\u001b[1;32m    490\u001b[0m     extra_api_info\u001b[38;5;241m=\u001b[39mextra_api_info,\n\u001b[1;32m    491\u001b[0m )\n\u001b[1;32m    493\u001b[0m \u001b[38;5;28;01mif\u001b[39;00m \u001b[38;5;129;01mnot\u001b[39;00m \u001b[38;5;241m200\u001b[39m \u001b[38;5;241m<\u001b[39m\u001b[38;5;241m=\u001b[39m response\u001b[38;5;241m.\u001b[39mstatus_code \u001b[38;5;241m<\u001b[39m \u001b[38;5;241m300\u001b[39m:\n\u001b[0;32m--> 494\u001b[0m     \u001b[38;5;28;01mraise\u001b[39;00m exceptions\u001b[38;5;241m.\u001b[39mfrom_http_response(response)\n\u001b[1;32m    496\u001b[0m \u001b[38;5;28;01mif\u001b[39;00m expect_json \u001b[38;5;129;01mand\u001b[39;00m response\u001b[38;5;241m.\u001b[39mcontent:\n\u001b[1;32m    497\u001b[0m     \u001b[38;5;28;01mreturn\u001b[39;00m response\u001b[38;5;241m.\u001b[39mjson()\n",
      "\u001b[0;31mForbidden\u001b[0m: 403 POST https://storage.googleapis.com/storage/v1/b?project=khaja-dev&prettyPrint=false: khaja-dv@khaja-dev.iam.gserviceaccount.com does not have storage.buckets.create access to the Google Cloud project. Permission 'storage.buckets.create' denied on resource (or it may not exist)."
     ]
    }
   ],
   "source": [
    "# Imports the Google Cloud client library\n",
    "from google.cloud import storage\n",
    "\n",
    "# Instantiates a client\n",
    "storage_client = storage.Client()\n",
    "\n",
    "# The name for the new bucket\n",
    "bucket_name = \"gcp-dv-bucket\"\n",
    "\n",
    "# Creates the new bucket\n",
    "bucket = storage_client.create_bucket(bucket_name)\n",
    "\n",
    "print(f\"Bucket {bucket.name} created.\")"
   ]
  },
  {
   "cell_type": "code",
   "execution_count": 1,
   "id": "448a14f6-fc7d-47b1-84f5-09b4ed026cc4",
   "metadata": {
    "tags": []
   },
   "outputs": [
    {
     "data": {
      "text/plain": [
       "'/home/ali/GCP'"
      ]
     },
     "execution_count": 1,
     "metadata": {},
     "output_type": "execute_result"
    }
   ],
   "source": [
    "pwd"
   ]
  },
  {
   "cell_type": "code",
   "execution_count": 2,
   "id": "a12faaf1-eea5-4bfd-8754-66aff55d8729",
   "metadata": {},
   "outputs": [
    {
     "data": {
      "text/plain": [
       "'/home/ali/GCP'"
      ]
     },
     "execution_count": 2,
     "metadata": {},
     "output_type": "execute_result"
    }
   ],
   "source": [
    "pwd"
   ]
  },
  {
   "cell_type": "code",
   "execution_count": null,
   "id": "5a6055e0-9d4b-4fe0-8e10-dbcb9473587b",
   "metadata": {},
   "outputs": [],
   "source": []
  },
  {
   "cell_type": "code",
   "execution_count": null,
   "id": "a558ae4d-fff7-412d-807c-24c94b784509",
   "metadata": {},
   "outputs": [],
   "source": []
  },
  {
   "cell_type": "code",
   "execution_count": null,
   "id": "3afbe663-1ca4-4a70-9b3e-e640a2ed9e17",
   "metadata": {},
   "outputs": [],
   "source": []
  },
  {
   "cell_type": "code",
   "execution_count": null,
   "id": "9006276f-cb92-40f9-965c-e3f82e0c9e36",
   "metadata": {},
   "outputs": [],
   "source": []
  },
  {
   "cell_type": "code",
   "execution_count": null,
   "id": "7c848e37-8218-492a-96e8-6e4ebff629fe",
   "metadata": {},
   "outputs": [],
   "source": []
  },
  {
   "cell_type": "code",
   "execution_count": null,
   "id": "1f519dfd-1342-4406-9c13-40d6d73def06",
   "metadata": {},
   "outputs": [],
   "source": []
  },
  {
   "cell_type": "code",
   "execution_count": null,
   "id": "dc49efda-3588-47c4-88c7-540d25bd5bd9",
   "metadata": {},
   "outputs": [],
   "source": []
  },
  {
   "cell_type": "code",
   "execution_count": null,
   "id": "de114078-e463-4279-b8a6-6bfdb1d90b63",
   "metadata": {},
   "outputs": [],
   "source": []
  },
  {
   "cell_type": "code",
   "execution_count": null,
   "id": "c938f066-9815-4b24-907e-9cbc2ca1a6ed",
   "metadata": {},
   "outputs": [],
   "source": []
  },
  {
   "cell_type": "code",
   "execution_count": null,
   "id": "23405acd-88c5-4ebd-92ab-52b25dd6db97",
   "metadata": {},
   "outputs": [],
   "source": []
  },
  {
   "cell_type": "code",
   "execution_count": null,
   "id": "e4a91e63-e66f-4883-a873-9d72e55c7f5f",
   "metadata": {},
   "outputs": [],
   "source": []
  },
  {
   "cell_type": "code",
   "execution_count": null,
   "id": "78fea6ab-b52f-42c9-af3e-b00047a8acc1",
   "metadata": {},
   "outputs": [],
   "source": []
  },
  {
   "cell_type": "code",
   "execution_count": null,
   "id": "ae6cbae6-dbf5-4242-841f-78b365dca19e",
   "metadata": {},
   "outputs": [],
   "source": []
  },
  {
   "cell_type": "code",
   "execution_count": null,
   "id": "c99212fb-9164-4211-b1f4-b7233258f2d2",
   "metadata": {},
   "outputs": [],
   "source": []
  },
  {
   "cell_type": "code",
   "execution_count": null,
   "id": "0f905943-124b-4b53-ada4-bb7dc140ded1",
   "metadata": {},
   "outputs": [],
   "source": []
  },
  {
   "cell_type": "code",
   "execution_count": null,
   "id": "4f1dc3f9-3b90-4640-b419-e27635fb2a2e",
   "metadata": {},
   "outputs": [],
   "source": []
  },
  {
   "cell_type": "code",
   "execution_count": 2,
   "id": "2d5282df-14a5-4a28-ab45-1a786c631b07",
   "metadata": {
    "tags": []
   },
   "outputs": [],
   "source": [
    "def get_secret(project_id, secret_id):\n",
    "    \"\"\"\n",
    "    Get information about the given secret. This only returns metadata about\n",
    "    the secret container, not any secret material.\n",
    "    \"\"\"\n",
    "\n",
    "    # Import the Secret Manager client library.\n",
    "    from google.cloud import secretmanager\n",
    "\n",
    "    # Create the Secret Manager client.\n",
    "    client = secretmanager.SecretManagerServiceClient()\n",
    "\n",
    "    # Build the resource name of the secret.\n",
    "    name = client.secret_path(project_id, secret_id)\n",
    "\n",
    "    # Get the secret.\n",
    "    response = client.get_secret(request={\"name\": name})\n",
    "\n",
    "    # Get the replication policy.\n",
    "    if \"automatic\" in response.replication:\n",
    "        replication = \"AUTOMATIC\"\n",
    "    elif \"user_managed\" in response.replication:\n",
    "        replication = \"MANAGED\"\n",
    "    else:\n",
    "        raise \"Unknown replication {}\".format(response.replication)\n",
    "\n",
    "    # Print data about the secret.\n",
    "    print(\"Got secret {} with replication policy {}\".format(response.name, replication))"
   ]
  },
  {
   "cell_type": "code",
   "execution_count": 4,
   "id": "8050171c-5231-4488-890b-9ef53f3f73f4",
   "metadata": {
    "tags": []
   },
   "outputs": [
    {
     "name": "stderr",
     "output_type": "stream",
     "text": [
      "/home/ali/venv/lib/python3.8/site-packages/google/auth/_default.py:78: UserWarning: Your application has authenticated using end user credentials from Google Cloud SDK without a quota project. You might receive a \"quota exceeded\" or \"API not enabled\" error. See the following page for troubleshooting: https://cloud.google.com/docs/authentication/adc-troubleshooting/user-creds. \n",
      "  warnings.warn(_CLOUD_SDK_CREDENTIALS_WARNING)\n"
     ]
    },
    {
     "name": "stdout",
     "output_type": "stream",
     "text": [
      "Got secret projects/855319760601/secrets/mysecret with replication policy AUTOMATIC\n"
     ]
    }
   ],
   "source": [
    "get_secret(project_id=\"khaja-dev\", secret_id=\"mysecret\")"
   ]
  },
  {
   "cell_type": "code",
   "execution_count": 7,
   "id": "d3a3964a-4ec7-4b19-8959-e5847327dc6a",
   "metadata": {
    "tags": []
   },
   "outputs": [],
   "source": [
    "def get_secret(project_id, secret_id):\n",
    "    \"\"\"\n",
    "    Get information about the given secret. This only returns metadata about\n",
    "    the secret container, not any secret material.\n",
    "    \"\"\"\n",
    "\n",
    "    # Import the Secret Manager client library.\n",
    "    from google.cloud import secretmanager\n",
    "\n",
    "    # Create the Secret Manager client.\n",
    "    client = secretmanager.SecretManagerServiceClient()\n",
    "\n",
    "    # Build the resource name of the secret.\n",
    "    name = client.secret_path(project_id, secret_id)\n",
    "\n",
    "    # Get the secret.\n",
    "    response = client.get_secret(request={\"name\": name})\n",
    "\n",
    "    # Get the replication policy.\n",
    "    if \"automatic\" in response.replication:\n",
    "        replication = \"AUTOMATIC\"\n",
    "    elif \"user_managed\" in response.replication:\n",
    "        replication = \"MANAGED\"\n",
    "    else:\n",
    "        raise \"Unknown replication {}\".format(response.replication)\n",
    "\n",
    "    # Print data about the secret.\n",
    "    print(\"Got secret {} with replication policy {}\".format(response.name, replication))\n",
    "    print(response.value)"
   ]
  },
  {
   "cell_type": "code",
   "execution_count": 14,
   "id": "09ef6a52-1909-4a0f-ac0b-b1e77bf4a57d",
   "metadata": {
    "tags": []
   },
   "outputs": [
    {
     "name": "stdout",
     "output_type": "stream",
     "text": [
      "Got secret projects/855319760601/secrets/mysecret with replication policy AUTOMATIC\n"
     ]
    }
   ],
   "source": [
    "from google.cloud import secretmanager\n",
    "\n",
    "project_id=\"khaja-dev\"\n",
    "secret_id=\"mysecret\"\n",
    "\n",
    "client = secretmanager.SecretManagerServiceClient()\n",
    "name = client.secret_path(project_id, secret_id)\n",
    "response = client.get_secret(request={\"name\": name})\n",
    "if \"automatic\" in response.replication:\n",
    "    replication = \"AUTOMATIC\"\n",
    "elif \"user_managed\" in response.replication:\n",
    "    replication = \"MANAGED\"\n",
    "else:\n",
    "    raise \"Unknown replication {}\".format(response.replication)\n",
    "\n",
    "print(\"Got secret {} with replication policy {}\".format(response.name, replication))"
   ]
  },
  {
   "cell_type": "code",
   "execution_count": 16,
   "id": "7eec8e47-a750-4c6d-9e19-aa92229c6d32",
   "metadata": {
    "tags": []
   },
   "outputs": [
    {
     "name": "stdout",
     "output_type": "stream",
     "text": [
      "name: \"projects/855319760601/secrets/mysecret\"\n",
      "replication {\n",
      "  automatic {\n",
      "  }\n",
      "}\n",
      "create_time {\n",
      "  seconds: 1682388959\n",
      "  nanos: 978352000\n",
      "}\n",
      "labels {\n",
      "  key: \"mysecret_key\"\n",
      "  value: \"mysecret_value\"\n",
      "}\n",
      "expire_time {\n",
      "  seconds: 1682447400\n",
      "}\n",
      "etag: \"\\\"15fa1fb4556370\\\"\"\n",
      "annotations {\n",
      "  key: \"mysecret_key_annotation\"\n",
      "  value: \"mysecret_value_annotation\"\n",
      "}\n",
      "\n"
     ]
    }
   ],
   "source": [
    "print(response)"
   ]
  },
  {
   "cell_type": "code",
   "execution_count": 23,
   "id": "1cda5ada-4f27-4ebe-86f2-69872fd6fbe9",
   "metadata": {
    "tags": []
   },
   "outputs": [],
   "source": [
    "client = secretmanager.SecretManagerServiceClient()\n",
    "name = \"projects/855319760601/secrets/mysecret/versions/1\"\n",
    "response = client.access_secret_version(name=name)\n"
   ]
  },
  {
   "cell_type": "code",
   "execution_count": 24,
   "id": "9f796ef9-e198-4264-9bde-cfb8139794e4",
   "metadata": {
    "tags": []
   },
   "outputs": [
    {
     "name": "stdout",
     "output_type": "stream",
     "text": [
      "name: \"projects/855319760601/secrets/mysecret/versions/1\"\n",
      "payload {\n",
      "  data: \"ThisIsMyTopSecret\"\n",
      "  data_crc32c: 2970417976\n",
      "}\n",
      "\n"
     ]
    }
   ],
   "source": [
    "print(response)"
   ]
  },
  {
   "cell_type": "code",
   "execution_count": 26,
   "id": "ccd91368-d163-4636-a953-4f25207b6fe8",
   "metadata": {
    "tags": []
   },
   "outputs": [
    {
     "name": "stdout",
     "output_type": "stream",
     "text": [
      "b'ThisIsMyTopSecret'\n"
     ]
    }
   ],
   "source": [
    "print(response.payload.data)"
   ]
  },
  {
   "cell_type": "code",
   "execution_count": 28,
   "id": "726b58ff-a401-4220-b1c3-9228abadb763",
   "metadata": {
    "tags": []
   },
   "outputs": [
    {
     "name": "stdout",
     "output_type": "stream",
     "text": [
      "ThisIsMyTopSecret\n"
     ]
    }
   ],
   "source": [
    "print(response.payload.data.decode(\"UTF-8\"))"
   ]
  },
  {
   "cell_type": "code",
   "execution_count": 29,
   "id": "c1762bbe-adf5-4fed-92ce-ef9eaabc4baf",
   "metadata": {
    "tags": []
   },
   "outputs": [],
   "source": [
    "def fun(project_id,secret_id,version):\n",
    "    client = secretmanager.SecretManagerServiceClient()\n",
    "    name = f\"projects/{project_id}/secrets/{secret_id}/versions/{version}\"\n",
    "    response = client.access_secret_version(name=name)\n",
    "    data=response.payload.data.decode(\"UTF-8\")\n",
    "    return data"
   ]
  },
  {
   "cell_type": "code",
   "execution_count": 30,
   "id": "21d99d2d-6494-4ef2-91bb-da401089b9f8",
   "metadata": {
    "tags": []
   },
   "outputs": [
    {
     "data": {
      "text/plain": [
       "'ThisIsMyTopSecret'"
      ]
     },
     "execution_count": 30,
     "metadata": {},
     "output_type": "execute_result"
    }
   ],
   "source": [
    "fun(project_id=\"855319760601\",secret_id=\"mysecret\",version=1)"
   ]
  },
  {
   "cell_type": "code",
   "execution_count": 31,
   "id": "65fa19ff-4939-4f7d-83b1-3fd57cff720e",
   "metadata": {
    "tags": []
   },
   "outputs": [],
   "source": [
    "value=fun(project_id=\"855319760601\",secret_id=\"mysecret\",version=1)"
   ]
  },
  {
   "cell_type": "code",
   "execution_count": 32,
   "id": "edeb419c-09ae-4733-89fe-20000799313c",
   "metadata": {
    "tags": []
   },
   "outputs": [
    {
     "name": "stdout",
     "output_type": "stream",
     "text": [
      "This is my ThisIsMyTopSecret\n"
     ]
    }
   ],
   "source": [
    "print(f\"This is my {value}\")"
   ]
  },
  {
   "cell_type": "code",
   "execution_count": null,
   "id": "ffa2ba6a-024b-4f0e-a061-83a9a133173d",
   "metadata": {},
   "outputs": [],
   "source": []
  },
  {
   "cell_type": "code",
   "execution_count": null,
   "id": "cebb1a5b-4c7d-4101-ad1d-2c373204b5f1",
   "metadata": {},
   "outputs": [],
   "source": []
  },
  {
   "cell_type": "code",
   "execution_count": 39,
   "id": "535211c9-a5a5-4b55-8bc3-90212fcdf497",
   "metadata": {
    "tags": []
   },
   "outputs": [],
   "source": [
    "from google.oauth2 import service_account\n",
    "credentials = service_account.Credentials.from_service_account_file(\n",
    "    \"key.json\", scopes=[\"https://www.googleapis.com/auth/cloud-platform\"],\n",
    ")"
   ]
  },
  {
   "cell_type": "code",
   "execution_count": 42,
   "id": "a997d339-72ef-4454-bb1f-8edaf5ac2e59",
   "metadata": {
    "tags": []
   },
   "outputs": [
    {
     "data": {
      "text/plain": [
       "<google.oauth2.service_account.Credentials at 0x7f7c4c28bd60>"
      ]
     },
     "execution_count": 42,
     "metadata": {},
     "output_type": "execute_result"
    }
   ],
   "source": [
    "credentials"
   ]
  },
  {
   "cell_type": "code",
   "execution_count": 62,
   "id": "69fd9489-e6ef-478d-874a-8a66f9ad0842",
   "metadata": {
    "tags": []
   },
   "outputs": [
    {
     "data": {
      "text/plain": [
       "['DEFAULT_ENDPOINT',\n",
       " 'DEFAULT_MTLS_ENDPOINT',\n",
       " '__class__',\n",
       " '__delattr__',\n",
       " '__dict__',\n",
       " '__dir__',\n",
       " '__doc__',\n",
       " '__enter__',\n",
       " '__eq__',\n",
       " '__exit__',\n",
       " '__format__',\n",
       " '__ge__',\n",
       " '__getattribute__',\n",
       " '__gt__',\n",
       " '__hash__',\n",
       " '__init__',\n",
       " '__init_subclass__',\n",
       " '__le__',\n",
       " '__lt__',\n",
       " '__module__',\n",
       " '__ne__',\n",
       " '__new__',\n",
       " '__reduce__',\n",
       " '__reduce_ex__',\n",
       " '__repr__',\n",
       " '__setattr__',\n",
       " '__sizeof__',\n",
       " '__str__',\n",
       " '__subclasshook__',\n",
       " '__weakref__',\n",
       " '_get_default_mtls_endpoint',\n",
       " '_transport',\n",
       " 'access_secret_version',\n",
       " 'add_secret_version',\n",
       " 'common_billing_account_path',\n",
       " 'common_folder_path',\n",
       " 'common_location_path',\n",
       " 'common_organization_path',\n",
       " 'common_project_path',\n",
       " 'create_secret',\n",
       " 'delete_secret',\n",
       " 'destroy_secret_version',\n",
       " 'disable_secret_version',\n",
       " 'enable_secret_version',\n",
       " 'from_service_account_file',\n",
       " 'from_service_account_info',\n",
       " 'from_service_account_json',\n",
       " 'get_iam_policy',\n",
       " 'get_mtls_endpoint_and_cert_source',\n",
       " 'get_secret',\n",
       " 'get_secret_version',\n",
       " 'list_secret_versions',\n",
       " 'list_secrets',\n",
       " 'parse_common_billing_account_path',\n",
       " 'parse_common_folder_path',\n",
       " 'parse_common_location_path',\n",
       " 'parse_common_organization_path',\n",
       " 'parse_common_project_path',\n",
       " 'parse_secret_path',\n",
       " 'parse_secret_version_path',\n",
       " 'parse_topic_path',\n",
       " 'secret_path',\n",
       " 'secret_version_path',\n",
       " 'set_iam_policy',\n",
       " 'test_iam_permissions',\n",
       " 'topic_path',\n",
       " 'transport',\n",
       " 'update_secret']"
      ]
     },
     "execution_count": 62,
     "metadata": {},
     "output_type": "execute_result"
    }
   ],
   "source": [
    "dir(client)"
   ]
  },
  {
   "cell_type": "code",
   "execution_count": null,
   "id": "6744965c-e1c9-4820-9ae7-d43ae6e2b87a",
   "metadata": {},
   "outputs": [],
   "source": [
    "client.from_service_account_file(\"key.json\")"
   ]
  },
  {
   "cell_type": "code",
   "execution_count": null,
   "id": "ba690e6b-ef13-449c-a29e-471714537068",
   "metadata": {},
   "outputs": [],
   "source": []
  },
  {
   "cell_type": "code",
   "execution_count": null,
   "id": "892300ba-0410-42ad-a371-9d94efad9b06",
   "metadata": {},
   "outputs": [],
   "source": []
  },
  {
   "cell_type": "code",
   "execution_count": 87,
   "id": "100d26c1-22ac-49f1-9d86-29ef2a22140b",
   "metadata": {
    "tags": []
   },
   "outputs": [],
   "source": [
    "import os\n",
    "os.environ[\"GOOGLE_APPLICATION_CREDENTIALS\"]=\"key.json\""
   ]
  },
  {
   "cell_type": "code",
   "execution_count": 95,
   "id": "86b5c274-e401-4178-b79b-af618e1c5532",
   "metadata": {
    "tags": []
   },
   "outputs": [],
   "source": [
    "def fun(project_id,secret_id,version):\n",
    "    try:  \n",
    "        client = secretmanager.SecretManagerServiceClient()\n",
    "        name = f\"projects/{project_id}/secrets/{secret_id}/versions/{version}\"\n",
    "        response = client.access_secret_version(name=name)\n",
    "        data=response.payload.data.decode(\"UTF-8\")\n",
    "      \n",
    "        if data: \n",
    "            return data\n",
    "    except Exception as e:\n",
    "        print(e)\n",
    "    # return data"
   ]
  },
  {
   "cell_type": "code",
   "execution_count": 96,
   "id": "8c30ae02-3a3d-4d97-af35-0afbb0a939d6",
   "metadata": {
    "tags": []
   },
   "outputs": [
    {
     "name": "stdout",
     "output_type": "stream",
     "text": [
      "404 Secret Version [projects/855319760601/secrets/mysecret/versions/1] not found.\n"
     ]
    }
   ],
   "source": [
    "fun(project_id=\"855319760601\",secret_id=\"mysecret\",version=1)"
   ]
  },
  {
   "cell_type": "code",
   "execution_count": 60,
   "id": "5ec96550-0626-46c0-9102-b6d3f746825a",
   "metadata": {
    "tags": []
   },
   "outputs": [],
   "source": [
    "value=fun(project_id=\"855319760601\",secret_id=\"mysecret\",version=1)"
   ]
  },
  {
   "cell_type": "code",
   "execution_count": 61,
   "id": "b5d33e69-b7b3-4ba8-a4d7-9a3f5822bc1e",
   "metadata": {
    "tags": []
   },
   "outputs": [
    {
     "name": "stdout",
     "output_type": "stream",
     "text": [
      "This is my ThisIsMyTopSecret\n"
     ]
    }
   ],
   "source": [
    "print(f\"This is my {value}\")"
   ]
  },
  {
   "cell_type": "code",
   "execution_count": null,
   "id": "bb70c55f-ead8-4365-bf7a-512083a42fe1",
   "metadata": {},
   "outputs": [],
   "source": []
  },
  {
   "cell_type": "code",
   "execution_count": null,
   "id": "04f3564f-aa22-447a-ad6f-235a17215dea",
   "metadata": {},
   "outputs": [],
   "source": []
  },
  {
   "cell_type": "code",
   "execution_count": null,
   "id": "9cdae604-c61d-4047-8871-c3b3376fb731",
   "metadata": {},
   "outputs": [],
   "source": []
  },
  {
   "cell_type": "code",
   "execution_count": null,
   "id": "86f058d8-4808-44f3-b3b5-56a9f30d6fb2",
   "metadata": {},
   "outputs": [],
   "source": []
  },
  {
   "cell_type": "code",
   "execution_count": null,
   "id": "0f1778c6-a5b8-4ec3-a0e1-67fb6eac04f3",
   "metadata": {},
   "outputs": [],
   "source": []
  },
  {
   "cell_type": "code",
   "execution_count": 63,
   "id": "588ab345-4aa8-46aa-a10e-128ad2adc934",
   "metadata": {
    "tags": []
   },
   "outputs": [
    {
     "data": {
      "text/plain": [
       "'key.json'"
      ]
     },
     "execution_count": 63,
     "metadata": {},
     "output_type": "execute_result"
    }
   ],
   "source": [
    "os.environ[\"GOOGLE_APPLICATION_CREDENTIALS\"]"
   ]
  },
  {
   "cell_type": "code",
   "execution_count": 64,
   "id": "94adccd9-3071-4385-b079-b5569063d3d0",
   "metadata": {
    "tags": []
   },
   "outputs": [],
   "source": [
    "del os.environ[\"GOOGLE_APPLICATION_CREDENTIALS\"]"
   ]
  },
  {
   "cell_type": "code",
   "execution_count": 65,
   "id": "bdfd0f65-fd8b-4b82-a890-b0b48cfdfd04",
   "metadata": {
    "tags": []
   },
   "outputs": [
    {
     "ename": "KeyError",
     "evalue": "'GOOGLE_APPLICATION_CREDENTIALS'",
     "output_type": "error",
     "traceback": [
      "\u001b[0;31m---------------------------------------------------------------------------\u001b[0m",
      "\u001b[0;31mKeyError\u001b[0m                                  Traceback (most recent call last)",
      "Cell \u001b[0;32mIn[65], line 1\u001b[0m\n\u001b[0;32m----> 1\u001b[0m \u001b[43mos\u001b[49m\u001b[38;5;241;43m.\u001b[39;49m\u001b[43menviron\u001b[49m\u001b[43m[\u001b[49m\u001b[38;5;124;43m\"\u001b[39;49m\u001b[38;5;124;43mGOOGLE_APPLICATION_CREDENTIALS\u001b[39;49m\u001b[38;5;124;43m\"\u001b[39;49m\u001b[43m]\u001b[49m\n",
      "File \u001b[0;32m/usr/lib/python3.8/os.py:675\u001b[0m, in \u001b[0;36m_Environ.__getitem__\u001b[0;34m(self, key)\u001b[0m\n\u001b[1;32m    672\u001b[0m     value \u001b[38;5;241m=\u001b[39m \u001b[38;5;28mself\u001b[39m\u001b[38;5;241m.\u001b[39m_data[\u001b[38;5;28mself\u001b[39m\u001b[38;5;241m.\u001b[39mencodekey(key)]\n\u001b[1;32m    673\u001b[0m \u001b[38;5;28;01mexcept\u001b[39;00m \u001b[38;5;167;01mKeyError\u001b[39;00m:\n\u001b[1;32m    674\u001b[0m     \u001b[38;5;66;03m# raise KeyError with the original key value\u001b[39;00m\n\u001b[0;32m--> 675\u001b[0m     \u001b[38;5;28;01mraise\u001b[39;00m \u001b[38;5;167;01mKeyError\u001b[39;00m(key) \u001b[38;5;28;01mfrom\u001b[39;00m \u001b[38;5;28;01mNone\u001b[39;00m\n\u001b[1;32m    676\u001b[0m \u001b[38;5;28;01mreturn\u001b[39;00m \u001b[38;5;28mself\u001b[39m\u001b[38;5;241m.\u001b[39mdecodevalue(value)\n",
      "\u001b[0;31mKeyError\u001b[0m: 'GOOGLE_APPLICATION_CREDENTIALS'"
     ]
    }
   ],
   "source": [
    "os.environ[\"GOOGLE_APPLICATION_CREDENTIALS\"]"
   ]
  },
  {
   "cell_type": "code",
   "execution_count": null,
   "id": "7642ae7f-100f-4143-b4f5-e153412a9be2",
   "metadata": {},
   "outputs": [],
   "source": []
  },
  {
   "cell_type": "code",
   "execution_count": 68,
   "id": "ce61c5f3-2c9d-46c8-8c08-80bb1e8fa6ef",
   "metadata": {
    "tags": []
   },
   "outputs": [
    {
     "data": {
      "text/plain": [
       "<google.cloud.secretmanager_v1.services.secret_manager_service.client.SecretManagerServiceClient at 0x7f7c13a846a0>"
      ]
     },
     "execution_count": 68,
     "metadata": {},
     "output_type": "execute_result"
    }
   ],
   "source": [
    "client.from_service_account_file(\"key.json\")"
   ]
  },
  {
   "cell_type": "code",
   "execution_count": 75,
   "id": "83a9f45c-0aab-4af3-9026-5922441e18ab",
   "metadata": {
    "tags": []
   },
   "outputs": [],
   "source": [
    "def fun(project_id,secret_id,version):\n",
    "    from google.oauth2 import service_account\n",
    "\n",
    "    # SCOPES = ['https://www.googleapis.com/auth/sqlservice.admin']\n",
    "    SERVICE_ACCOUNT_FILE = 'key.json'\n",
    "\n",
    "    credentials = service_account.Credentials.from_service_account_file(\n",
    "            SERVICE_ACCOUNT_FILE\n",
    "        # , scopes=SCOPES\n",
    "    )\n",
    "    \n",
    "    \n",
    "    client = secretmanager.SecretManagerServiceClient(credentials=credentials)    \n",
    "    name = f\"projects/{project_id}/secrets/{secret_id}/versions/{version}\"\n",
    "    response = client.access_secret_version(name=name)\n",
    "    data=response.payload.data.decode(\"UTF-8\")\n",
    "    return data"
   ]
  },
  {
   "cell_type": "code",
   "execution_count": 76,
   "id": "8f8292b7-8f8a-4385-87d1-a16f3f0fd5b7",
   "metadata": {
    "tags": []
   },
   "outputs": [
    {
     "data": {
      "text/plain": [
       "'ThisIsMyTopSecret'"
      ]
     },
     "execution_count": 76,
     "metadata": {},
     "output_type": "execute_result"
    }
   ],
   "source": [
    "fun(project_id=\"855319760601\",secret_id=\"mysecret\",version=1)"
   ]
  },
  {
   "cell_type": "code",
   "execution_count": 77,
   "id": "49bec342-bd01-488f-a06a-51d66967a428",
   "metadata": {
    "tags": []
   },
   "outputs": [],
   "source": [
    "value=fun(project_id=\"855319760601\",secret_id=\"mysecret\",version=1)"
   ]
  },
  {
   "cell_type": "code",
   "execution_count": 78,
   "id": "0f939db2-a136-4c50-b5dd-5f82c42b238c",
   "metadata": {
    "tags": []
   },
   "outputs": [
    {
     "name": "stdout",
     "output_type": "stream",
     "text": [
      "This is my ThisIsMyTopSecret\n"
     ]
    }
   ],
   "source": [
    "print(f\"This is my {value}\")"
   ]
  },
  {
   "cell_type": "code",
   "execution_count": 81,
   "id": "011a0c93-0214-42f6-a83a-b70620b51797",
   "metadata": {
    "tags": []
   },
   "outputs": [],
   "source": [
    "import google.auth"
   ]
  },
  {
   "cell_type": "code",
   "execution_count": 83,
   "id": "c961bbb0-58ce-4e25-baaf-c39fc9e5b871",
   "metadata": {
    "tags": []
   },
   "outputs": [
    {
     "name": "stdout",
     "output_type": "stream",
     "text": [
      "Updated property [core/project].\n"
     ]
    }
   ],
   "source": [
    "!gcloud config set project khaja-dev"
   ]
  },
  {
   "cell_type": "code",
   "execution_count": 84,
   "id": "25a860ea-f9e5-4c28-88a5-b7c87f5bfa97",
   "metadata": {
    "tags": []
   },
   "outputs": [
    {
     "ename": "DefaultCredentialsError",
     "evalue": "Your default credentials were not found. To set up Application Default Credentials, see https://cloud.google.com/docs/authentication/external/set-up-adc for more information.",
     "output_type": "error",
     "traceback": [
      "\u001b[0;31m---------------------------------------------------------------------------\u001b[0m",
      "\u001b[0;31mDefaultCredentialsError\u001b[0m                   Traceback (most recent call last)",
      "Cell \u001b[0;32mIn[84], line 1\u001b[0m\n\u001b[0;32m----> 1\u001b[0m credentials,project\u001b[38;5;241m=\u001b[39m\u001b[43mgoogle\u001b[49m\u001b[38;5;241;43m.\u001b[39;49m\u001b[43mauth\u001b[49m\u001b[38;5;241;43m.\u001b[39;49m\u001b[43mdefault\u001b[49m\u001b[43m(\u001b[49m\u001b[43m)\u001b[49m\n",
      "File \u001b[0;32m~/venv/lib/python3.8/site-packages/google/auth/_default.py:648\u001b[0m, in \u001b[0;36mdefault\u001b[0;34m(scopes, request, quota_project_id, default_scopes)\u001b[0m\n\u001b[1;32m    640\u001b[0m             _LOGGER\u001b[38;5;241m.\u001b[39mwarning(\n\u001b[1;32m    641\u001b[0m                 \u001b[38;5;124m\"\u001b[39m\u001b[38;5;124mNo project ID could be determined. Consider running \u001b[39m\u001b[38;5;124m\"\u001b[39m\n\u001b[1;32m    642\u001b[0m                 \u001b[38;5;124m\"\u001b[39m\u001b[38;5;124m`gcloud config set project` or setting the \u001b[39m\u001b[38;5;132;01m%s\u001b[39;00m\u001b[38;5;124m \u001b[39m\u001b[38;5;124m\"\u001b[39m\n\u001b[1;32m    643\u001b[0m                 \u001b[38;5;124m\"\u001b[39m\u001b[38;5;124menvironment variable\u001b[39m\u001b[38;5;124m\"\u001b[39m,\n\u001b[1;32m    644\u001b[0m                 environment_vars\u001b[38;5;241m.\u001b[39mPROJECT,\n\u001b[1;32m    645\u001b[0m             )\n\u001b[1;32m    646\u001b[0m         \u001b[38;5;28;01mreturn\u001b[39;00m credentials, effective_project_id\n\u001b[0;32m--> 648\u001b[0m \u001b[38;5;28;01mraise\u001b[39;00m exceptions\u001b[38;5;241m.\u001b[39mDefaultCredentialsError(_CLOUD_SDK_MISSING_CREDENTIALS)\n",
      "\u001b[0;31mDefaultCredentialsError\u001b[0m: Your default credentials were not found. To set up Application Default Credentials, see https://cloud.google.com/docs/authentication/external/set-up-adc for more information."
     ]
    }
   ],
   "source": [
    "credentials,project=google.auth.default()"
   ]
  },
  {
   "cell_type": "code",
   "execution_count": null,
   "id": "ae403a35-839e-4ff0-9dac-728d9bbc2ec3",
   "metadata": {},
   "outputs": [],
   "source": []
  },
  {
   "cell_type": "code",
   "execution_count": null,
   "id": "84e4d074-bdc8-4a32-8a2c-cda1884d5f4c",
   "metadata": {},
   "outputs": [],
   "source": []
  },
  {
   "cell_type": "code",
   "execution_count": null,
   "id": "301eed5f-1cad-4e04-a93e-baa63cf77d82",
   "metadata": {},
   "outputs": [],
   "source": []
  },
  {
   "cell_type": "code",
   "execution_count": null,
   "id": "3290b41f-f23c-476f-aead-05435696f3c7",
   "metadata": {},
   "outputs": [],
   "source": []
  },
  {
   "cell_type": "code",
   "execution_count": null,
   "id": "c45631e6-f3a0-4d3e-af64-0159f654894b",
   "metadata": {},
   "outputs": [],
   "source": []
  },
  {
   "cell_type": "code",
   "execution_count": null,
   "id": "5e5f0a9d-5b54-4571-862d-5e1dfd417218",
   "metadata": {},
   "outputs": [],
   "source": []
  },
  {
   "cell_type": "code",
   "execution_count": null,
   "id": "84e8d6cb-10ac-4062-8e1f-6eb472115e94",
   "metadata": {},
   "outputs": [],
   "source": []
  },
  {
   "cell_type": "code",
   "execution_count": null,
   "id": "c382cab5-71f6-4c07-8478-977eb55eea02",
   "metadata": {},
   "outputs": [],
   "source": []
  },
  {
   "cell_type": "code",
   "execution_count": null,
   "id": "cd1e2bd9-afaa-4f2b-b341-f3c6736b4648",
   "metadata": {},
   "outputs": [],
   "source": []
  },
  {
   "cell_type": "code",
   "execution_count": null,
   "id": "65065d21-c473-48f1-a2e2-1e5a3f41aca8",
   "metadata": {},
   "outputs": [],
   "source": []
  },
  {
   "cell_type": "code",
   "execution_count": null,
   "id": "d0ba3d6e-5fd0-4f2e-a56a-47bf2d660ed3",
   "metadata": {},
   "outputs": [],
   "source": []
  },
  {
   "cell_type": "code",
   "execution_count": null,
   "id": "4a11152b-f92a-4c61-8575-a4a1aca1ad59",
   "metadata": {},
   "outputs": [],
   "source": []
  },
  {
   "cell_type": "code",
   "execution_count": null,
   "id": "0e19a78c-8965-419f-943c-ac73840c2d74",
   "metadata": {},
   "outputs": [],
   "source": []
  },
  {
   "cell_type": "code",
   "execution_count": null,
   "id": "63475425-764b-4212-9fb0-9a285c371af1",
   "metadata": {},
   "outputs": [],
   "source": []
  },
  {
   "cell_type": "code",
   "execution_count": null,
   "id": "ef1dd503-fb05-45df-9c80-391c5778e752",
   "metadata": {},
   "outputs": [],
   "source": []
  },
  {
   "cell_type": "code",
   "execution_count": null,
   "id": "c92f0f31-e0ba-4d34-b6d6-b1962c493004",
   "metadata": {},
   "outputs": [],
   "source": []
  },
  {
   "cell_type": "code",
   "execution_count": null,
   "id": "ceda061d-57d5-4f5d-ba1d-c433480245b4",
   "metadata": {},
   "outputs": [],
   "source": []
  },
  {
   "cell_type": "code",
   "execution_count": null,
   "id": "42cd4c8e-fe7a-46a1-96e4-0de995e25209",
   "metadata": {},
   "outputs": [],
   "source": []
  },
  {
   "cell_type": "code",
   "execution_count": null,
   "id": "ecc1f19f-f953-4d58-849d-e0b5dd55855f",
   "metadata": {},
   "outputs": [],
   "source": []
  },
  {
   "cell_type": "code",
   "execution_count": null,
   "id": "9de4268f-d454-499e-8bab-daf4b2af4daa",
   "metadata": {},
   "outputs": [],
   "source": []
  },
  {
   "cell_type": "code",
   "execution_count": null,
   "id": "51d46c35-6d5e-4956-96b7-670bbabe460f",
   "metadata": {},
   "outputs": [],
   "source": []
  },
  {
   "cell_type": "code",
   "execution_count": null,
   "id": "54f5f9ce-ea60-4aa8-890a-84a332df9495",
   "metadata": {},
   "outputs": [],
   "source": []
  },
  {
   "cell_type": "code",
   "execution_count": null,
   "id": "c170e98d-5e31-4442-82b1-867c5c7ff840",
   "metadata": {},
   "outputs": [],
   "source": []
  },
  {
   "cell_type": "code",
   "execution_count": null,
   "id": "349d1f94-f7f4-4235-a97b-76f129cd9d69",
   "metadata": {},
   "outputs": [],
   "source": []
  },
  {
   "cell_type": "code",
   "execution_count": null,
   "id": "7ac231f4-900a-4440-a409-86e52c6fbeb4",
   "metadata": {},
   "outputs": [],
   "source": []
  }
 ],
 "metadata": {
  "kernelspec": {
   "display_name": "Python 3 (ipykernel)",
   "language": "python",
   "name": "python3"
  },
  "language_info": {
   "codemirror_mode": {
    "name": "ipython",
    "version": 3
   },
   "file_extension": ".py",
   "mimetype": "text/x-python",
   "name": "python",
   "nbconvert_exporter": "python",
   "pygments_lexer": "ipython3",
   "version": "3.8.10"
  }
 },
 "nbformat": 4,
 "nbformat_minor": 5
}
