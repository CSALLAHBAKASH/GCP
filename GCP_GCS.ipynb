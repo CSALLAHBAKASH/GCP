{
 "cells": [
  {
   "cell_type": "code",
   "execution_count": 2,
   "id": "443e9f2b-845d-4182-bae1-4678adda59cc",
   "metadata": {
    "tags": []
   },
   "outputs": [
    {
     "name": "stdout",
     "output_type": "stream",
     "text": [
      "hello\n"
     ]
    }
   ],
   "source": [
    "print(\"hello\")"
   ]
  },
  {
   "cell_type": "code",
   "execution_count": 4,
   "id": "f09fd66e-9bfa-4b6c-82e3-13873fc4f302",
   "metadata": {
    "tags": []
   },
   "outputs": [],
   "source": [
    "import warnings\n",
    "import os"
   ]
  },
  {
   "cell_type": "code",
   "execution_count": 5,
   "id": "f89665d7-dcec-425d-a1ce-bf5e8aa03218",
   "metadata": {
    "tags": []
   },
   "outputs": [],
   "source": [
    "warnings.filterwarnings(\"ignore\")"
   ]
  },
  {
   "cell_type": "code",
   "execution_count": 6,
   "id": "ae250974-559e-4fa9-91b5-f418d1227c62",
   "metadata": {
    "tags": []
   },
   "outputs": [],
   "source": [
    "import os\n",
    "os.environ[\"GOOGLE_APPLICATION_CREDENTIALS\"]=\"/home/ali/key.json\""
   ]
  },
  {
   "cell_type": "code",
   "execution_count": null,
   "id": "e8adeac4-2ecb-46c6-883c-b606ea6f231b",
   "metadata": {},
   "outputs": [],
   "source": []
  },
  {
   "cell_type": "markdown",
   "id": "7273b11f-4ec5-4da7-a62c-4ed0d61d0b40",
   "metadata": {},
   "source": [
    "# GOOGLE CLOUD STORAGE"
   ]
  },
  {
   "attachments": {},
   "cell_type": "markdown",
   "id": "bdec3cdc",
   "metadata": {},
   "source": [
    "Set up authentication\n",
    "When you use client libraries, you use Application Default Credentials (ADC) to authenticate. For information about setting up ADC, see Provide credentials for Application Default Credentials. For information about using ADC with client libraries, see Authenticate using client libraries."
   ]
  },
  {
   "cell_type": "raw",
   "id": "82fce3aa-14a3-4072-bef7-61a86bba7915",
   "metadata": {
    "tags": []
   },
   "source": [
    "!pip install google-cloud-storage\n"
   ]
  },
  {
   "cell_type": "code",
   "execution_count": 25,
   "id": "5c1d7ce1-7e9d-4bb0-9bbf-797b8441707c",
   "metadata": {
    "tags": []
   },
   "outputs": [],
   "source": [
    "def create_bucket(bucket_name):\n",
    "    # Imports the Google Cloud client library\n",
    "    from google.cloud import storage\n",
    "\n",
    "    # Instantiates a client\n",
    "    storage_client = storage.Client()\n",
    "\n",
    "    # The name for the new bucket\n",
    "    # bucket_name = \"gcp-dv-bucket\"\n",
    "\n",
    "    # Creates the new bucket\n",
    "    bucket = storage_client.create_bucket(bucket_name)\n",
    "\n",
    "    print(f\"Bucket {bucket.name} created.\")"
   ]
  },
  {
   "cell_type": "code",
   "execution_count": 26,
   "id": "76b374ce",
   "metadata": {},
   "outputs": [
    {
     "name": "stdout",
     "output_type": "stream",
     "text": [
      "Bucket gcp-dv-bucket2 created.\n"
     ]
    }
   ],
   "source": [
    "create_bucket(\"gcp-dv-bucket2\")"
   ]
  },
  {
   "attachments": {},
   "cell_type": "markdown",
   "id": "5a6055e0-9d4b-4fe0-8e10-dbcb9473587b",
   "metadata": {},
   "source": [
    "## Upload an object to a bucket"
   ]
  },
  {
   "cell_type": "code",
   "execution_count": 2,
   "id": "a558ae4d-fff7-412d-807c-24c94b784509",
   "metadata": {},
   "outputs": [],
   "source": [
    "from google.cloud import storage\n",
    "\n",
    "\n",
    "def upload_blob(bucket_name, source_file_name, destination_blob_name):\n",
    "\n",
    "    storage_client = storage.Client()\n",
    "    bucket = storage_client.bucket(bucket_name)\n",
    "    blob = bucket.blob(destination_blob_name)\n",
    "\n",
    "    generation_match_precondition = 0\n",
    "\n",
    "    blob.upload_from_filename(source_file_name, if_generation_match=generation_match_precondition)\n",
    "\n",
    "    print(\n",
    "        f\"File {source_file_name} uploaded to {destination_blob_name}.\"\n",
    "    )\n"
   ]
  },
  {
   "cell_type": "code",
   "execution_count": 10,
   "id": "3afbe663-1ca4-4a70-9b3e-e640a2ed9e17",
   "metadata": {},
   "outputs": [
    {
     "name": "stdout",
     "output_type": "stream",
     "text": [
      "File README.md uploaded to temp/README.md.\n"
     ]
    }
   ],
   "source": [
    "upload_blob(\"gcp-dv-bucket\", \"README.md\", \"temp/README.md\")"
   ]
  },
  {
   "cell_type": "code",
   "execution_count": null,
   "id": "9006276f-cb92-40f9-965c-e3f82e0c9e36",
   "metadata": {},
   "outputs": [],
   "source": []
  },
  {
   "attachments": {},
   "cell_type": "markdown",
   "id": "9107beae",
   "metadata": {},
   "source": [
    "## Download an object from a bucket"
   ]
  },
  {
   "cell_type": "code",
   "execution_count": 12,
   "id": "1f519dfd-1342-4406-9c13-40d6d73def06",
   "metadata": {},
   "outputs": [],
   "source": [
    "from google.cloud import storage\n",
    "\n",
    "\n",
    "def download_blob(bucket_name, source_blob_name, destination_file_name):\n",
    "\n",
    "    storage_client = storage.Client()\n",
    "\n",
    "    bucket = storage_client.bucket(bucket_name)\n",
    "\n",
    "    blob = bucket.blob(source_blob_name)\n",
    "    blob.download_to_filename(destination_file_name)\n",
    "\n",
    "    print(\n",
    "        \"Downloaded storage object {} from bucket {} to local file {}.\".format(\n",
    "            source_blob_name, bucket_name, destination_file_name\n",
    "        )\n",
    "    )\n"
   ]
  },
  {
   "cell_type": "code",
   "execution_count": 16,
   "id": "dc49efda-3588-47c4-88c7-540d25bd5bd9",
   "metadata": {},
   "outputs": [
    {
     "name": "stdout",
     "output_type": "stream",
     "text": [
      "Downloaded storage object README.md from bucket gcp-dv-bucket to local file README_test.md.\n"
     ]
    }
   ],
   "source": [
    "download_blob(\"gcp-dv-bucket\", \"README.md\", \"README_test.md\")"
   ]
  },
  {
   "cell_type": "code",
   "execution_count": null,
   "id": "de114078-e463-4279-b8a6-6bfdb1d90b63",
   "metadata": {},
   "outputs": [],
   "source": []
  },
  {
   "cell_type": "code",
   "execution_count": null,
   "id": "c938f066-9815-4b24-907e-9cbc2ca1a6ed",
   "metadata": {},
   "outputs": [],
   "source": []
  },
  {
   "cell_type": "code",
   "execution_count": 7,
   "id": "23405acd-88c5-4ebd-92ab-52b25dd6db97",
   "metadata": {},
   "outputs": [],
   "source": [
    "from google.cloud import storage\n",
    "client = storage.Client()"
   ]
  },
  {
   "cell_type": "code",
   "execution_count": 8,
   "id": "e4a91e63-e66f-4883-a873-9d72e55c7f5f",
   "metadata": {},
   "outputs": [
    {
     "data": {
      "text/plain": [
       "['SCOPE',\n",
       " '_SET_PROJECT',\n",
       " '__annotations__',\n",
       " '__class__',\n",
       " '__delattr__',\n",
       " '__dict__',\n",
       " '__dir__',\n",
       " '__doc__',\n",
       " '__eq__',\n",
       " '__format__',\n",
       " '__ge__',\n",
       " '__getattribute__',\n",
       " '__getstate__',\n",
       " '__gt__',\n",
       " '__hash__',\n",
       " '__init__',\n",
       " '__init_subclass__',\n",
       " '__le__',\n",
       " '__lt__',\n",
       " '__module__',\n",
       " '__ne__',\n",
       " '__new__',\n",
       " '__reduce__',\n",
       " '__reduce_ex__',\n",
       " '__repr__',\n",
       " '__setattr__',\n",
       " '__sizeof__',\n",
       " '__str__',\n",
       " '__subclasshook__',\n",
       " '__weakref__',\n",
       " '_base_connection',\n",
       " '_batch_stack',\n",
       " '_bucket_arg_to_bucket',\n",
       " '_client_cert_source',\n",
       " '_connection',\n",
       " '_credentials',\n",
       " '_delete_resource',\n",
       " '_determine_default',\n",
       " '_get_resource',\n",
       " '_http',\n",
       " '_http_internal',\n",
       " '_initial_client_info',\n",
       " '_initial_client_options',\n",
       " '_list_resource',\n",
       " '_patch_resource',\n",
       " '_pop_batch',\n",
       " '_post_resource',\n",
       " '_push_batch',\n",
       " '_put_resource',\n",
       " 'batch',\n",
       " 'bucket',\n",
       " 'close',\n",
       " 'create_anonymous_client',\n",
       " 'create_bucket',\n",
       " 'create_hmac_key',\n",
       " 'current_batch',\n",
       " 'download_blob_to_file',\n",
       " 'from_service_account_info',\n",
       " 'from_service_account_json',\n",
       " 'generate_signed_post_policy_v4',\n",
       " 'get_bucket',\n",
       " 'get_hmac_key_metadata',\n",
       " 'get_service_account_email',\n",
       " 'list_blobs',\n",
       " 'list_buckets',\n",
       " 'list_hmac_keys',\n",
       " 'lookup_bucket',\n",
       " 'project']"
      ]
     },
     "execution_count": 8,
     "metadata": {},
     "output_type": "execute_result"
    }
   ],
   "source": [
    "dir(client)"
   ]
  },
  {
   "cell_type": "code",
   "execution_count": 9,
   "id": "78fea6ab-b52f-42c9-af3e-b00047a8acc1",
   "metadata": {},
   "outputs": [
    {
     "name": "stdout",
     "output_type": "stream",
     "text": [
      "khaja-dev\n"
     ]
    }
   ],
   "source": [
    "print(client.project)"
   ]
  },
  {
   "cell_type": "code",
   "execution_count": 16,
   "id": "766acf4f",
   "metadata": {},
   "outputs": [
    {
     "data": {
      "text/plain": [
       "<Bucket: gcp-dv-bucket>"
      ]
     },
     "execution_count": 16,
     "metadata": {},
     "output_type": "execute_result"
    }
   ],
   "source": [
    "client.get_bucket(\"gcp-dv-bucket\")"
   ]
  },
  {
   "cell_type": "code",
   "execution_count": 13,
   "id": "ae6cbae6-dbf5-4242-841f-78b365dca19e",
   "metadata": {},
   "outputs": [
    {
     "name": "stdout",
     "output_type": "stream",
     "text": [
      "<Bucket: gcp-dv-bucket>\n",
      "<class 'google.cloud.storage.bucket.Bucket'>\n",
      "['Bucket', 'gcp-dv-bucket']\n",
      "<Bucket: gcp-dv-bucket2>\n",
      "<class 'google.cloud.storage.bucket.Bucket'>\n",
      "['Bucket', 'gcp-dv-bucket2']\n"
     ]
    }
   ],
   "source": [
    "for j in client.list_buckets():\n",
    "    print(j)\n",
    "    print(type(j))\n",
    "    print([i.strip().replace('<','').replace('>','') for i in str(j).split(\":\")])\n"
   ]
  },
  {
   "cell_type": "code",
   "execution_count": 31,
   "id": "c99212fb-9164-4211-b1f4-b7233258f2d2",
   "metadata": {},
   "outputs": [],
   "source": [
    "s=\"<Bucket: gcp-dv-bucket>\""
   ]
  },
  {
   "cell_type": "code",
   "execution_count": 39,
   "id": "0f905943-124b-4b53-ada4-bb7dc140ded1",
   "metadata": {},
   "outputs": [
    {
     "data": {
      "text/plain": [
       "'gcp-dv-bucket'"
      ]
     },
     "execution_count": 39,
     "metadata": {},
     "output_type": "execute_result"
    }
   ],
   "source": [
    "[i.strip().replace('<','').replace('>','') for i in s.split(\":\")][1]"
   ]
  },
  {
   "cell_type": "code",
   "execution_count": 35,
   "id": "4f1dc3f9-3b90-4640-b419-e27635fb2a2e",
   "metadata": {},
   "outputs": [
    {
     "name": "stdout",
     "output_type": "stream",
     "text": [
      "['__add__', '__class__', '__contains__', '__delattr__', '__dir__', '__doc__', '__eq__', '__format__', '__ge__', '__getattribute__', '__getitem__', '__getnewargs__', '__gt__', '__hash__', '__init__', '__init_subclass__', '__iter__', '__le__', '__len__', '__lt__', '__mod__', '__mul__', '__ne__', '__new__', '__reduce__', '__reduce_ex__', '__repr__', '__rmod__', '__rmul__', '__setattr__', '__sizeof__', '__str__', '__subclasshook__', 'capitalize', 'casefold', 'center', 'count', 'encode', 'endswith', 'expandtabs', 'find', 'format', 'format_map', 'index', 'isalnum', 'isalpha', 'isascii', 'isdecimal', 'isdigit', 'isidentifier', 'islower', 'isnumeric', 'isprintable', 'isspace', 'istitle', 'isupper', 'join', 'ljust', 'lower', 'lstrip', 'maketrans', 'partition', 'replace', 'rfind', 'rindex', 'rjust', 'rpartition', 'rsplit', 'rstrip', 'split', 'splitlines', 'startswith', 'strip', 'swapcase', 'title', 'translate', 'upper', 'zfill']\n"
     ]
    }
   ],
   "source": [
    "print(dir(str))"
   ]
  },
  {
   "cell_type": "code",
   "execution_count": 45,
   "id": "c92f0f31-e0ba-4d34-b6d6-b1962c493004",
   "metadata": {},
   "outputs": [
    {
     "name": "stdout",
     "output_type": "stream",
     "text": [
      "<Blob: gcp-dv-bucket, README.md, 1682657535424370>\n",
      "<Blob: gcp-dv-bucket, code/, 1682657560857892>\n",
      "<Blob: gcp-dv-bucket, input/, 1682657544888001>\n",
      "<Blob: gcp-dv-bucket, logs/, 1682657567900816>\n",
      "<Blob: gcp-dv-bucket, output/, 1682657552718264>\n",
      "<Blob: gcp-dv-bucket, temp/, 1682657573727045>\n",
      "<Blob: gcp-dv-bucket, temp/README*, 1682657818136008>\n",
      "<Blob: gcp-dv-bucket, temp/README.md, 1682657784152065>\n"
     ]
    }
   ],
   "source": [
    "for i in client.list_blobs(\"gcp-dv-bucket\"):\n",
    "    print(i)"
   ]
  },
  {
   "cell_type": "code",
   "execution_count": 46,
   "id": "ceda061d-57d5-4f5d-ba1d-c433480245b4",
   "metadata": {},
   "outputs": [
    {
     "data": {
      "text/plain": [
       "('https://www.googleapis.com/auth/devstorage.full_control',\n",
       " 'https://www.googleapis.com/auth/devstorage.read_only',\n",
       " 'https://www.googleapis.com/auth/devstorage.read_write')"
      ]
     },
     "execution_count": 46,
     "metadata": {},
     "output_type": "execute_result"
    }
   ],
   "source": [
    "client.SCOPE"
   ]
  },
  {
   "cell_type": "code",
   "execution_count": null,
   "id": "42cd4c8e-fe7a-46a1-96e4-0de995e25209",
   "metadata": {},
   "outputs": [],
   "source": []
  },
  {
   "cell_type": "code",
   "execution_count": null,
   "id": "ecc1f19f-f953-4d58-849d-e0b5dd55855f",
   "metadata": {},
   "outputs": [],
   "source": []
  },
  {
   "cell_type": "code",
   "execution_count": null,
   "id": "9de4268f-d454-499e-8bab-daf4b2af4daa",
   "metadata": {},
   "outputs": [],
   "source": []
  },
  {
   "cell_type": "code",
   "execution_count": null,
   "id": "51d46c35-6d5e-4956-96b7-670bbabe460f",
   "metadata": {},
   "outputs": [],
   "source": []
  },
  {
   "cell_type": "code",
   "execution_count": null,
   "id": "54f5f9ce-ea60-4aa8-890a-84a332df9495",
   "metadata": {},
   "outputs": [],
   "source": []
  },
  {
   "cell_type": "code",
   "execution_count": null,
   "id": "c170e98d-5e31-4442-82b1-867c5c7ff840",
   "metadata": {},
   "outputs": [],
   "source": []
  },
  {
   "cell_type": "code",
   "execution_count": null,
   "id": "349d1f94-f7f4-4235-a97b-76f129cd9d69",
   "metadata": {},
   "outputs": [],
   "source": []
  },
  {
   "cell_type": "code",
   "execution_count": null,
   "id": "7ac231f4-900a-4440-a409-86e52c6fbeb4",
   "metadata": {},
   "outputs": [],
   "source": []
  }
 ],
 "metadata": {
  "kernelspec": {
   "display_name": "Python 3 (ipykernel)",
   "language": "python",
   "name": "python3"
  },
  "language_info": {
   "codemirror_mode": {
    "name": "ipython",
    "version": 3
   },
   "file_extension": ".py",
   "mimetype": "text/x-python",
   "name": "python",
   "nbconvert_exporter": "python",
   "pygments_lexer": "ipython3",
   "version": "3.8.10"
  }
 },
 "nbformat": 4,
 "nbformat_minor": 5
}
