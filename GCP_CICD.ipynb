{
 "cells": [
  {
   "cell_type": "code",
   "execution_count": null,
   "id": "dd2a93b8",
   "metadata": {},
   "outputs": [],
   "source": [
    "sudo apt update\n",
    "sudo apt upgrade -y\n",
    "sudo apt install python3-pip -y\n",
    "pip install virtualenv\n",
    "\n",
    "export PATH=$PATH:/home/$USER/.local/bin\n",
    "\n",
    "virtualenv venv\n",
    "\n",
    "pip install pandas flask gunicorn jupyter jupyterlab"
   ]
  },
  {
   "cell_type": "code",
   "execution_count": null,
   "id": "9f7dbed8",
   "metadata": {},
   "outputs": [],
   "source": [
    "curl -O https://dl.google.com/dl/cloudsdk/channels/rapid/downloads/google-cloud-cli-429.0.0-linux-x86_64.tar.gz\n",
    "tar -xf google-cloud-cli-429.0.0-linux-x86.tar.gz\n",
    "./google-cloud-sdk/install.sh\n",
    "./google-cloud-sdk/bin/gcloud init"
   ]
  },
  {
   "cell_type": "code",
   "execution_count": null,
   "id": "28da1119",
   "metadata": {},
   "outputs": [],
   "source": [
    "export GOOGLE_APPLICATION_CREDENTIALS=\"/home/ali/khaja-dv-key.json\"\n",
    "\n",
    "gcloud source repos create myrepo\n",
    "gcloud source repos clone myrepo\n",
    "gcloud source repos list\n",
    "gcloud source repos describe myrepo\n",
    "gcloud source repos delete myrepo\n",
    "gcloud source repos set-default myrepo"
   ]
  },
  {
   "cell_type": "code",
   "execution_count": null,
   "id": "238e050d",
   "metadata": {},
   "outputs": [],
   "source": [
    "$gcloud init\n",
    "$gcloud source repos clone myrepo --project=khaja-dev\n",
    "$cd myrepo\n",
    "$git push -u origin master\n",
    "$git push -u origin main\n",
    "git config --global user.email \"khajasabengr@gmail.com\"\n",
    "git config --global user.name \"khajasab\""
   ]
  },
  {
   "cell_type": "code",
   "execution_count": null,
   "id": "9083290a",
   "metadata": {},
   "outputs": [],
   "source": []
  },
  {
   "cell_type": "code",
   "execution_count": null,
   "id": "4c1a08c0",
   "metadata": {},
   "outputs": [],
   "source": [
    "sudo apt update\n",
    "sudo apt-get install docker.io\n",
    "\n",
    "   60  docker version\n",
    "   61  docker run hello-world\n",
    "   62  sudo service docker stat\n",
    "   63  sudo service docker start\n",
    "   64  docker version\n",
    "   65  sudo groupadd docker\n",
    "   66  sudo usermod -aG docker $USER\n",
    "   67  docker run hello-world\n",
    "   68  sudo systemctl status docker\n",
    "   69  sudo systemctl start docker\n",
    "   70  sudo systemctl enable docker\n",
    "   71  docker run hello-world\n",
    "   72  ls -l /var/run/docker.sock\n",
    "   73  sudo chown root:docker /var/run/docker.sock\n",
    "   74  sudo chmod 660 /var/run/docker.sock\n",
    "   75  docker run hello-world\n",
    "   76  exit\n",
    "   77  docker version\n",
    "   78  history\n"
   ]
  },
  {
   "cell_type": "code",
   "execution_count": null,
   "id": "9eed3848",
   "metadata": {},
   "outputs": [],
   "source": [
    "\n",
    "-- local to GCP container-registry\n",
    "gcloud auth configure-docker\n",
    "\n",
    "docker run ubuntu\n",
    "docker tag my-app gcr.io/[PROJECT_ID]/my-app:v1.0.0\n",
    "docker tag ubuntu:latest gcr.io/khaja-dev/myimg:v1.0.0\n",
    "\n",
    "docker push gcr.io/khaja-dev/myimg:v1.0.0\n",
    "\n",
    "docker rmi -f <img-id>\n",
    "\n",
    "docker pull gcr.io/khaja-dev/myimg:v1.0.0\n",
    "\n",
    "gcloud container images delete gcr.io/khaja-dev/myimg:v1.0.0 --force-delete-tags\n",
    "\n",
    "\n",
    "yes | gcloud container images delete gcr.io/khaja-dev/hello-world-flask-app@sha256:06288ae732aa8e1b7291b139e87d555f9389d42313e53e1f6213a3da31ccd3e4 --force-delete-tags\n"
   ]
  },
  {
   "cell_type": "code",
   "execution_count": null,
   "id": "1b489a56",
   "metadata": {},
   "outputs": [],
   "source": [
    "\n",
    "-- local to GCP Artifact-registry\n",
    "gcloud auth configure-docker asia-south1-docker.pkg.dev\n",
    "\n",
    "docker tag gcr.io/[PROJECT_ID]/[IMAGE_NAME]:[TAG] [REGION]-docker.pkg.dev/[PROJECT_ID]/[REPO_NAME]/[IMAGE_NAME]:[TAG]\n",
    "docker tag gcr.io/khaja-dev/myimg:v1.0.0 asia-south1-docker.pkg.dev/khaja-dev/myrepo/myimg:v1.0.0\n",
    "\n",
    "docker push [REGION]-docker.pkg.dev/[PROJECT_ID]/[REPO_NAME]/[IMAGE_NAME]:[TAG]\n",
    "docker push asia-south1-docker.pkg.dev/khaja-dev/myrepo/myimg:v1.0.0\n",
    "\n",
    "gcloud artifacts repositories create myrepo --repository-format=docker --location=us-central1\n",
    "docker tag gcr.io/khaja-dev/myimg:v1.0.0 us-central1-docker.pkg.dev/khaja-dev/myrepo/myimg:v1.0.0\n",
    "docker push us-central1-docker.pkg.dev/khaja-dev/myrepo/myimg:v1.0.0\n"
   ]
  },
  {
   "cell_type": "code",
   "execution_count": 4,
   "id": "4ea9cbd9",
   "metadata": {},
   "outputs": [
    {
     "name": "stdout",
     "output_type": "stream",
     "text": [
      "Reading package lists... Done\n",
      "Building dependency tree... Done\n",
      "Reading state information... Done\n",
      "Calculating upgrade... Done\n",
      "0 upgraded, 0 newly installed, 0 to remove and 0 not upgraded.\n"
     ]
    }
   ],
   "source": [
    "!echo ali | sudo -S apt upgrade"
   ]
  },
  {
   "cell_type": "code",
   "execution_count": null,
   "id": "628877c6",
   "metadata": {},
   "outputs": [],
   "source": []
  },
  {
   "cell_type": "code",
   "execution_count": null,
   "id": "38016665",
   "metadata": {},
   "outputs": [],
   "source": []
  },
  {
   "cell_type": "code",
   "execution_count": 1,
   "id": "ab4cf96c",
   "metadata": {},
   "outputs": [],
   "source": [
    "# 1. GitHub"
   ]
  },
  {
   "cell_type": "code",
   "execution_count": 3,
   "id": "ce0b8dbb",
   "metadata": {},
   "outputs": [],
   "source": [
    "# app.py\n",
    "from flask import Flask\n",
    "\n",
    "app = Flask(__name__)\n",
    "\n",
    "@app.route('/')\n",
    "def hello_world():\n",
    "    return 'Hello, World!'"
   ]
  },
  {
   "cell_type": "raw",
   "id": "3bd8dc5d",
   "metadata": {},
   "source": [
    "# requirements.txt\n",
    "Flask==2.0.1\n"
   ]
  },
  {
   "cell_type": "raw",
   "id": "76f5e88d",
   "metadata": {},
   "source": [
    "# Dockerfile\n",
    "FROM python:3.9-slim-buster\n",
    "\n",
    "WORKDIR /app\n",
    "\n",
    "COPY requirements.txt requirements.txt\n",
    "RUN pip3 install -r requirements.txt\n",
    "\n",
    "COPY . .\n",
    "\n",
    "CMD [ \"python3\", \"app.py\" ]\n"
   ]
  },
  {
   "cell_type": "raw",
   "id": "1acbb5a7",
   "metadata": {},
   "source": [
    "# .github/workflows/main.yml\n",
    "name: CI/CD\n",
    "\n",
    "on:\n",
    "  push:\n",
    "    branches: [ main ]\n",
    "\n",
    "jobs:\n",
    "  build:\n",
    "    runs-on: ubuntu-latest\n",
    "\n",
    "    steps:\n",
    "    - uses: actions/checkout@v2\n",
    "\n",
    "    - name: Build and push Docker image\n",
    "      uses: docker/build-push-action@v2\n",
    "      with:\n",
    "        context: .\n",
    "        push: true\n",
    "        tags: username/hello-world-flask-app:latest\n",
    "\n",
    "    - name: Deploy to Kubernetes\n",
    "      uses: appleboy/kubectl-action@v0.2.1\n",
    "      with:\n",
    "        config: ${{ secrets.KUBECONFIG }}\n",
    "        command: apply\n",
    "        manifest: |\n",
    "          apiVersion: apps/v1\n",
    "          kind: Deployment\n",
    "          metadata:\n",
    "            name: hello-world-flask-app\n",
    "            labels:\n",
    "              app: hello-world-flask-app\n",
    "          spec:\n",
    "            replicas: 3\n",
    "            selector:\n",
    "              matchLabels:\n",
    "                app: hello-world-flask-app\n",
    "            template:\n",
    "              metadata:\n",
    "                labels:\n",
    "                  app: hello-world-flask-app\n",
    "              spec:\n",
    "                containers:\n",
    "                - name: hello-world-flask-app\n",
    "                  image: username/hello-world-flask-app:latest\n",
    "                  ports:\n",
    "                  - containerPort: 5000\n",
    "                imagePullSecrets:\n",
    "                - name: regcred\n",
    "---\n"
   ]
  },
  {
   "cell_type": "raw",
   "id": "f4965620",
   "metadata": {},
   "source": [
    "# Test app  \n",
    "docker build -t hello-world-flask-app .\n",
    "docker run -p 5000:5000 hello-world-flask-app\n"
   ]
  },
  {
   "attachments": {},
   "cell_type": "markdown",
   "id": "6d8913bb",
   "metadata": {},
   "source": [
    "# Cloud Source Repo"
   ]
  },
  {
   "cell_type": "raw",
   "id": "f0b28a4e",
   "metadata": {},
   "source": []
  },
  {
   "cell_type": "raw",
   "id": "bcf91d67",
   "metadata": {},
   "source": []
  },
  {
   "cell_type": "raw",
   "id": "5828f9e9",
   "metadata": {},
   "source": []
  }
 ],
 "metadata": {
  "kernelspec": {
   "display_name": "Python 3 (ipykernel)",
   "language": "python",
   "name": "python3"
  },
  "language_info": {
   "codemirror_mode": {
    "name": "ipython",
    "version": 3
   },
   "file_extension": ".py",
   "mimetype": "text/x-python",
   "name": "python",
   "nbconvert_exporter": "python",
   "pygments_lexer": "ipython3",
   "version": "3.10.6"
  }
 },
 "nbformat": 4,
 "nbformat_minor": 5
}
