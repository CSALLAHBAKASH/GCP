{
 "cells": [
  {
   "cell_type": "code",
   "execution_count": 1,
   "id": "ab4cf96c",
   "metadata": {},
   "outputs": [],
   "source": [
    "# 1. GitHub"
   ]
  },
  {
   "cell_type": "code",
   "execution_count": 3,
   "id": "ce0b8dbb",
   "metadata": {},
   "outputs": [],
   "source": [
    "# app.py\n",
    "from flask import Flask\n",
    "\n",
    "app = Flask(__name__)\n",
    "\n",
    "@app.route('/')\n",
    "def hello_world():\n",
    "    return 'Hello, World!'"
   ]
  },
  {
   "cell_type": "raw",
   "id": "3bd8dc5d",
   "metadata": {},
   "source": [
    "# requirements.txt\n",
    "Flask==2.0.1\n"
   ]
  },
  {
   "cell_type": "raw",
   "id": "76f5e88d",
   "metadata": {},
   "source": [
    "# Dockerfile\n",
    "FROM python:3.9-slim-buster\n",
    "\n",
    "WORKDIR /app\n",
    "\n",
    "COPY requirements.txt requirements.txt\n",
    "RUN pip3 install -r requirements.txt\n",
    "\n",
    "COPY . .\n",
    "\n",
    "CMD [ \"python3\", \"app.py\" ]\n"
   ]
  },
  {
   "cell_type": "raw",
   "id": "1acbb5a7",
   "metadata": {},
   "source": [
    "# .github/workflows/main.yml\n",
    "name: CI/CD\n",
    "\n",
    "on:\n",
    "  push:\n",
    "    branches: [ main ]\n",
    "\n",
    "jobs:\n",
    "  build:\n",
    "    runs-on: ubuntu-latest\n",
    "\n",
    "    steps:\n",
    "    - uses: actions/checkout@v2\n",
    "\n",
    "    - name: Build and push Docker image\n",
    "      uses: docker/build-push-action@v2\n",
    "      with:\n",
    "        context: .\n",
    "        push: true\n",
    "        tags: username/hello-world-flask-app:latest\n",
    "\n",
    "    - name: Deploy to Kubernetes\n",
    "      uses: appleboy/kubectl-action@v0.2.1\n",
    "      with:\n",
    "        config: ${{ secrets.KUBECONFIG }}\n",
    "        command: apply\n",
    "        manifest: |\n",
    "          apiVersion: apps/v1\n",
    "          kind: Deployment\n",
    "          metadata:\n",
    "            name: hello-world-flask-app\n",
    "            labels:\n",
    "              app: hello-world-flask-app\n",
    "          spec:\n",
    "            replicas: 3\n",
    "            selector:\n",
    "              matchLabels:\n",
    "                app: hello-world-flask-app\n",
    "            template:\n",
    "              metadata:\n",
    "                labels:\n",
    "                  app: hello-world-flask-app\n",
    "              spec:\n",
    "                containers:\n",
    "                - name: hello-world-flask-app\n",
    "                  image: username/hello-world-flask-app:latest\n",
    "                  ports:\n",
    "                  - containerPort: 5000\n",
    "                imagePullSecrets:\n",
    "                - name: regcred\n",
    "---\n"
   ]
  },
  {
   "cell_type": "raw",
   "id": "f4965620",
   "metadata": {},
   "source": [
    "# Test app  \n",
    "docker build -t hello-world-flask-app .\n",
    "docker run -p 5000:5000 hello-world-flask-app\n"
   ]
  },
  {
   "cell_type": "raw",
   "id": "6d8913bb",
   "metadata": {},
   "source": []
  },
  {
   "cell_type": "raw",
   "id": "f0b28a4e",
   "metadata": {},
   "source": []
  },
  {
   "cell_type": "raw",
   "id": "bcf91d67",
   "metadata": {},
   "source": []
  },
  {
   "cell_type": "raw",
   "id": "5828f9e9",
   "metadata": {},
   "source": []
  }
 ],
 "metadata": {
  "kernelspec": {
   "display_name": "Python 3 (ipykernel)",
   "language": "python",
   "name": "python3"
  },
  "language_info": {
   "codemirror_mode": {
    "name": "ipython",
    "version": 3
   },
   "file_extension": ".py",
   "mimetype": "text/x-python",
   "name": "python",
   "nbconvert_exporter": "python",
   "pygments_lexer": "ipython3",
   "version": "3.8.10"
  }
 },
 "nbformat": 4,
 "nbformat_minor": 5
}
